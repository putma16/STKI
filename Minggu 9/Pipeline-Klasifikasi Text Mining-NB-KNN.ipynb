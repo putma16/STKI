{
 "cells": [
  {
   "cell_type": "markdown",
   "metadata": {
    "id": "QQzFvuEXYO29"
   },
   "source": [
    "## Klasifikasi Text Mining menggunakan Naive Bayes"
   ]
  },
  {
   "cell_type": "markdown",
   "metadata": {
    "id": "wDD8_BOAYhz9"
   },
   "source": [
    "# load drive"
   ]
  },
  {
   "cell_type": "code",
   "execution_count": 1,
   "metadata": {
    "colab": {
     "base_uri": "https://localhost:8080/"
    },
    "executionInfo": {
     "elapsed": 9156,
     "status": "ok",
     "timestamp": 1665403314011,
     "user": {
      "displayName": "farrikh alzami",
      "userId": "11964535993149439504"
     },
     "user_tz": -420
    },
    "id": "nGp1bD18YjLY",
    "outputId": "9bd795fa-7e40-4777-98b6-b4690740f3e5"
   },
   "outputs": [],
   "source": [
    "# from google.colab import drive\n",
    "# drive.mount('/content/drive')\n",
    "# import sys\n",
    "# sys.path.append('/content/drive/My Drive/Colab Notebooks/AMS2023')"
   ]
  },
  {
   "cell_type": "markdown",
   "metadata": {
    "id": "4ha0Iz7KZPNI"
   },
   "source": [
    "# install library ekphrasis"
   ]
  },
  {
   "cell_type": "code",
   "execution_count": null,
   "metadata": {
    "colab": {
     "base_uri": "https://localhost:8080/"
    },
    "executionInfo": {
     "elapsed": 2955,
     "status": "ok",
     "timestamp": 1665403320752,
     "user": {
      "displayName": "farrikh alzami",
      "userId": "11964535993149439504"
     },
     "user_tz": -420
    },
    "id": "o0lyD-xfZQge",
    "outputId": "c4360fa6-dce1-43e9-b1c3-0effd16d0223"
   },
   "outputs": [],
   "source": [
    "# !pip install ekphrasis"
   ]
  },
  {
   "cell_type": "code",
   "execution_count": 1,
   "metadata": {
    "colab": {
     "base_uri": "https://localhost:8080/"
    },
    "executionInfo": {
     "elapsed": 8611,
     "status": "ok",
     "timestamp": 1665403332930,
     "user": {
      "displayName": "farrikh alzami",
      "userId": "11964535993149439504"
     },
     "user_tz": -420
    },
    "id": "2n8VFUcCZWuV",
    "outputId": "1df07a58-882c-4480-d106-ef896b65e624",
    "tags": []
   },
   "outputs": [
    {
     "name": "stderr",
     "output_type": "stream",
     "text": [
      "c:\\Users\\putma\\AppData\\Local\\Programs\\Python\\Python310\\lib\\site-packages\\ekphrasis\\classes\\tokenizer.py:225: FutureWarning: Possible nested set at position 2190\n",
      "  self.tok = re.compile(r\"({})\".format(\"|\".join(pipeline)))\n"
     ]
    },
    {
     "name": "stdout",
     "output_type": "stream",
     "text": [
      "Reading twitter - 1grams ...\n",
      "Reading twitter - 2grams ...\n",
      "Reading twitter - 1grams ...\n"
     ]
    },
    {
     "name": "stderr",
     "output_type": "stream",
     "text": [
      "c:\\Users\\putma\\AppData\\Local\\Programs\\Python\\Python310\\lib\\site-packages\\ekphrasis\\classes\\exmanager.py:14: FutureWarning: Possible nested set at position 42\n",
      "  regexes = {k.lower(): re.compile(self.expressions[k]) for k, v in\n"
     ]
    }
   ],
   "source": [
    "from ekphrasis.classes.preprocessor import TextPreProcessor\n",
    "from ekphrasis.classes.tokenizer import SocialTokenizer\n",
    "from ekphrasis.dicts.emoticons import emoticons\n",
    "\n",
    "text_processor = TextPreProcessor(\n",
    "    # terms that will be normalized\n",
    "    normalize=['email', 'percent', 'money', 'phone', 'user',\n",
    "        'time', 'date', 'number'],\n",
    "    # terms that will be annotated\n",
    "    #annotate={\"hashtag\", \"allcaps\", \"elongated\", \"repeated\",'emphasis', 'censored'},\n",
    "    annotate={\"hashtag\",\"allcaps\",\"elongated\",\"repeated\",'emphasis','censored'},\n",
    "    fix_html=True,  # fix HTML tokens\n",
    "    \n",
    "    # corpus from which the word statistics are going to be used \n",
    "    # for word segmentation \n",
    "    segmenter=\"twitter\", \n",
    "    \n",
    "    # corpus from which the word statistics are going to be used \n",
    "    # for spell correction\n",
    "    corrector=\"twitter\", \n",
    "    \n",
    "    unpack_hashtags=True,  # perform word segmentation on hashtags\n",
    "    unpack_contractions=True,  # Unpack contractions (can't -> can not)\n",
    "    spell_correct_elong=False,  # spell correction for elongated words\n",
    "    \n",
    "    # select a tokenizer. You can use SocialTokenizer, or pass your own\n",
    "    # the tokenizer, should take as input a string and return a list of tokens\n",
    "    tokenizer=SocialTokenizer(lowercase=True).tokenize,\n",
    "    \n",
    "    # list of dictionaries, for replacing tokens extracted from the text,\n",
    "    # with other expressions. You can pass more than one dictionaries.\n",
    "    dicts=[emoticons]\n",
    ")"
   ]
  },
  {
   "cell_type": "markdown",
   "metadata": {
    "id": "OOwAOicWYajI"
   },
   "source": [
    "# load library"
   ]
  },
  {
   "cell_type": "code",
   "execution_count": 2,
   "metadata": {
    "id": "BmapjRiEYGPd",
    "tags": []
   },
   "outputs": [],
   "source": [
    "import re\n",
    "import string \n",
    "import pandas as pd\n",
    "from copy import deepcopy\n",
    "\n",
    "import matplotlib.pyplot as plt\n",
    "import seaborn as sns\n",
    "%matplotlib inline\n",
    "\n",
    "from sklearn.model_selection import train_test_split\n",
    "from sklearn.metrics import accuracy_score\n",
    "from sklearn.metrics import recall_score\n",
    "from sklearn.metrics import precision_score"
   ]
  },
  {
   "cell_type": "markdown",
   "metadata": {
    "id": "iR6F1PJMZgY_"
   },
   "source": [
    "# load dataset"
   ]
  },
  {
   "cell_type": "code",
   "execution_count": 4,
   "metadata": {
    "id": "i533Vd_pZfnq",
    "tags": []
   },
   "outputs": [],
   "source": [
    "df = pd.read_csv('Dataset_Sentimen_Emosi.csv')"
   ]
  },
  {
   "cell_type": "code",
   "execution_count": 5,
   "metadata": {
    "colab": {
     "base_uri": "https://localhost:8080/",
     "height": 206
    },
    "executionInfo": {
     "elapsed": 14,
     "status": "ok",
     "timestamp": 1665403332933,
     "user": {
      "displayName": "farrikh alzami",
      "userId": "11964535993149439504"
     },
     "user_tz": -420
    },
    "id": "tNNt78OHZp6G",
    "outputId": "42a33437-b602-423e-a352-5bc05c6d9879",
    "tags": []
   },
   "outputs": [
    {
     "data": {
      "text/html": [
       "<div>\n",
       "<style scoped>\n",
       "    .dataframe tbody tr th:only-of-type {\n",
       "        vertical-align: middle;\n",
       "    }\n",
       "\n",
       "    .dataframe tbody tr th {\n",
       "        vertical-align: top;\n",
       "    }\n",
       "\n",
       "    .dataframe thead th {\n",
       "        text-align: right;\n",
       "    }\n",
       "</style>\n",
       "<table border=\"1\" class=\"dataframe\">\n",
       "  <thead>\n",
       "    <tr style=\"text-align: right;\">\n",
       "      <th></th>\n",
       "      <th>Tweet</th>\n",
       "      <th>Sentimen</th>\n",
       "      <th>Emosi</th>\n",
       "    </tr>\n",
       "  </thead>\n",
       "  <tbody>\n",
       "    <tr>\n",
       "      <th>0</th>\n",
       "      <td>emang lemes bgt ya mulut lu, gue yg mau beli-b...</td>\n",
       "      <td>-1.0</td>\n",
       "      <td>-2</td>\n",
       "    </tr>\n",
       "    <tr>\n",
       "      <th>1</th>\n",
       "      <td>Cegah mata rantai Covid-19,mari kita dirumah s...</td>\n",
       "      <td>1.0</td>\n",
       "      <td>1</td>\n",
       "    </tr>\n",
       "    <tr>\n",
       "      <th>2</th>\n",
       "      <td>aku mohon yaAllah semoga wabah covid-19 menghi...</td>\n",
       "      <td>1.0</td>\n",
       "      <td>-1</td>\n",
       "    </tr>\n",
       "    <tr>\n",
       "      <th>3</th>\n",
       "      <td>Pemprov Papua Naikkan Status Jadi Tanggap Daru...</td>\n",
       "      <td>1.0</td>\n",
       "      <td>1</td>\n",
       "    </tr>\n",
       "    <tr>\n",
       "      <th>4</th>\n",
       "      <td>Covid belum nyampe prigen mbak hmm hoax</td>\n",
       "      <td>0.0</td>\n",
       "      <td>-2</td>\n",
       "    </tr>\n",
       "  </tbody>\n",
       "</table>\n",
       "</div>"
      ],
      "text/plain": [
       "                                               Tweet  Sentimen  Emosi\n",
       "0  emang lemes bgt ya mulut lu, gue yg mau beli-b...      -1.0     -2\n",
       "1  Cegah mata rantai Covid-19,mari kita dirumah s...       1.0      1\n",
       "2  aku mohon yaAllah semoga wabah covid-19 menghi...       1.0     -1\n",
       "3  Pemprov Papua Naikkan Status Jadi Tanggap Daru...       1.0      1\n",
       "4            Covid belum nyampe prigen mbak hmm hoax       0.0     -2"
      ]
     },
     "execution_count": 5,
     "metadata": {},
     "output_type": "execute_result"
    }
   ],
   "source": [
    "df.head()"
   ]
  },
  {
   "cell_type": "markdown",
   "metadata": {
    "id": "wI1_sMOYZ10L"
   },
   "source": [
    "karena kita hanya ingin fokus di Sentimen analysis, maka kita hanya pakai `Sentimen` sebagai target class nya **class**"
   ]
  },
  {
   "cell_type": "code",
   "execution_count": 6,
   "metadata": {
    "id": "ORRk3QgCZzIZ",
    "tags": []
   },
   "outputs": [],
   "source": [
    "df = df.drop(['Emosi'], axis=1)"
   ]
  },
  {
   "cell_type": "code",
   "execution_count": 7,
   "metadata": {
    "colab": {
     "base_uri": "https://localhost:8080/",
     "height": 206
    },
    "executionInfo": {
     "elapsed": 13,
     "status": "ok",
     "timestamp": 1665403332933,
     "user": {
      "displayName": "farrikh alzami",
      "userId": "11964535993149439504"
     },
     "user_tz": -420
    },
    "id": "Fw9T_vxxaGlO",
    "outputId": "b0788005-2a3f-44cf-8d49-e1fac9f69c79",
    "tags": []
   },
   "outputs": [
    {
     "data": {
      "text/html": [
       "<div>\n",
       "<style scoped>\n",
       "    .dataframe tbody tr th:only-of-type {\n",
       "        vertical-align: middle;\n",
       "    }\n",
       "\n",
       "    .dataframe tbody tr th {\n",
       "        vertical-align: top;\n",
       "    }\n",
       "\n",
       "    .dataframe thead th {\n",
       "        text-align: right;\n",
       "    }\n",
       "</style>\n",
       "<table border=\"1\" class=\"dataframe\">\n",
       "  <thead>\n",
       "    <tr style=\"text-align: right;\">\n",
       "      <th></th>\n",
       "      <th>Tweet</th>\n",
       "      <th>Sentimen</th>\n",
       "    </tr>\n",
       "  </thead>\n",
       "  <tbody>\n",
       "    <tr>\n",
       "      <th>0</th>\n",
       "      <td>emang lemes bgt ya mulut lu, gue yg mau beli-b...</td>\n",
       "      <td>-1.0</td>\n",
       "    </tr>\n",
       "    <tr>\n",
       "      <th>1</th>\n",
       "      <td>Cegah mata rantai Covid-19,mari kita dirumah s...</td>\n",
       "      <td>1.0</td>\n",
       "    </tr>\n",
       "    <tr>\n",
       "      <th>2</th>\n",
       "      <td>aku mohon yaAllah semoga wabah covid-19 menghi...</td>\n",
       "      <td>1.0</td>\n",
       "    </tr>\n",
       "    <tr>\n",
       "      <th>3</th>\n",
       "      <td>Pemprov Papua Naikkan Status Jadi Tanggap Daru...</td>\n",
       "      <td>1.0</td>\n",
       "    </tr>\n",
       "    <tr>\n",
       "      <th>4</th>\n",
       "      <td>Covid belum nyampe prigen mbak hmm hoax</td>\n",
       "      <td>0.0</td>\n",
       "    </tr>\n",
       "  </tbody>\n",
       "</table>\n",
       "</div>"
      ],
      "text/plain": [
       "                                               Tweet  Sentimen\n",
       "0  emang lemes bgt ya mulut lu, gue yg mau beli-b...      -1.0\n",
       "1  Cegah mata rantai Covid-19,mari kita dirumah s...       1.0\n",
       "2  aku mohon yaAllah semoga wabah covid-19 menghi...       1.0\n",
       "3  Pemprov Papua Naikkan Status Jadi Tanggap Daru...       1.0\n",
       "4            Covid belum nyampe prigen mbak hmm hoax       0.0"
      ]
     },
     "execution_count": 7,
     "metadata": {},
     "output_type": "execute_result"
    }
   ],
   "source": [
    "df.head()"
   ]
  },
  {
   "cell_type": "markdown",
   "metadata": {
    "id": "BJQVC4IFaQVN"
   },
   "source": [
    "# Preprocessing"
   ]
  },
  {
   "cell_type": "markdown",
   "metadata": {
    "id": "gsZ7w0D6bB_G"
   },
   "source": [
    "## setting fungsi"
   ]
  },
  {
   "cell_type": "code",
   "execution_count": 8,
   "metadata": {
    "id": "CUL7cOXDaKwK",
    "tags": []
   },
   "outputs": [],
   "source": [
    "def bersih_data(text):\n",
    "    return \" \".join(text_processor.pre_process_doc(text))\n",
    "\n",
    "def non_ascii(text):\n",
    "    return text.encode('ascii', 'replace').decode('ascii')\n",
    "\n",
    "def remove_space_alzami(text):\n",
    "    return \" \".join(text.split())\n",
    "\n",
    "def remove_emoji_alzami(text):\n",
    "    return ' '.join(re.sub(\"([x#][A-Za-z0-9]+)\",\" \", text).split())\n",
    "\n",
    "def remove_tab(text):\n",
    "    return text.replace('\\\\t',\" \").replace('\\\\n',\" \").replace('\\\\u',\" \").replace('\\\\',\"\")\n",
    "\n",
    "def remove_tab2(text):\n",
    "    return re.sub('\\s+',' ',text)\n",
    "\n",
    "def remove_rt(text):\n",
    "    return text.replace('RT',\" \")\n",
    "\n",
    "def remove_mention(text):\n",
    "    return ' '.join(re.sub(\"([@#][A-Za-z0-9]+)|(\\w+:\\/\\/\\S+)\",\" \", text).split())\n",
    "\n",
    "def remove_incomplete_url(text):\n",
    "    return text.replace(\"http://\", \" \").replace(\"https://\", \" \")\n",
    "\n",
    "def remove_single_char(text):\n",
    "    return re.sub(r\"\\b[a-zA-Z]\\b\", \"\", text)\n",
    "\n",
    "def change_stripe(text):\n",
    "    return text.replace('-',\" \")\n",
    "\n",
    "def lower(text):\n",
    "    return text.lower()\n",
    "\n",
    "def remove_punctuation(text):\n",
    "    remove = string.punctuation\n",
    "    remove = remove.replace(\"_\", \"\") # don't remove hyphens\n",
    "    pattern = r\"[{}]\".format(remove) # create the pattern\n",
    "    return re.sub(pattern, \"\", text) "
   ]
  },
  {
   "cell_type": "markdown",
   "metadata": {
    "id": "dKWc2zLWa1vU"
   },
   "source": [
    "## running preprocessing\n",
    "logika main disini"
   ]
  },
  {
   "cell_type": "code",
   "execution_count": 9,
   "metadata": {
    "id": "WK9Su5bBbG2G",
    "tags": []
   },
   "outputs": [],
   "source": [
    "final_string = []\n",
    "for text in df['Tweet'].values:\n",
    "    EachReviewText = \"\"\n",
    "    proc = bersih_data(text)\n",
    "    proc = remove_rt(proc) \n",
    "    proc = lower(proc)\n",
    "    proc = change_stripe(proc)\n",
    "    proc = remove_tab(proc)\n",
    "    proc = remove_tab2(proc)\n",
    "    proc = non_ascii(proc)\n",
    "    proc = remove_incomplete_url(proc)\n",
    "    proc = remove_single_char(proc)\n",
    "    proc = remove_punctuation(proc)\n",
    "    proc = remove_space_alzami(proc)\n",
    "    EachReviewText = proc\n",
    "    final_string.append(EachReviewText)"
   ]
  },
  {
   "cell_type": "markdown",
   "metadata": {
    "id": "gG-9xjmJbrja"
   },
   "source": [
    "masukkan hasil preprocessing ke kolom `step01`"
   ]
  },
  {
   "cell_type": "code",
   "execution_count": 10,
   "metadata": {
    "id": "ALrxEwRJbjb2",
    "tags": []
   },
   "outputs": [],
   "source": [
    "df[\"step01\"] = final_string"
   ]
  },
  {
   "cell_type": "code",
   "execution_count": 11,
   "metadata": {
    "colab": {
     "base_uri": "https://localhost:8080/",
     "height": 206
    },
    "executionInfo": {
     "elapsed": 4,
     "status": "ok",
     "timestamp": 1665403340439,
     "user": {
      "displayName": "farrikh alzami",
      "userId": "11964535993149439504"
     },
     "user_tz": -420
    },
    "id": "hOmgeMAMbwGu",
    "outputId": "d961e3d7-3d9a-40a8-c94a-c5dfc8bc30a1",
    "tags": []
   },
   "outputs": [
    {
     "data": {
      "text/html": [
       "<div>\n",
       "<style scoped>\n",
       "    .dataframe tbody tr th:only-of-type {\n",
       "        vertical-align: middle;\n",
       "    }\n",
       "\n",
       "    .dataframe tbody tr th {\n",
       "        vertical-align: top;\n",
       "    }\n",
       "\n",
       "    .dataframe thead th {\n",
       "        text-align: right;\n",
       "    }\n",
       "</style>\n",
       "<table border=\"1\" class=\"dataframe\">\n",
       "  <thead>\n",
       "    <tr style=\"text-align: right;\">\n",
       "      <th></th>\n",
       "      <th>Tweet</th>\n",
       "      <th>Sentimen</th>\n",
       "      <th>step01</th>\n",
       "    </tr>\n",
       "  </thead>\n",
       "  <tbody>\n",
       "    <tr>\n",
       "      <th>0</th>\n",
       "      <td>emang lemes bgt ya mulut lu, gue yg mau beli-b...</td>\n",
       "      <td>-1.0</td>\n",
       "      <td>emang lemes bgt ya mulut lu gue yg mau beli be...</td>\n",
       "    </tr>\n",
       "  </tbody>\n",
       "</table>\n",
       "</div>"
      ],
      "text/plain": [
       "                                               Tweet  Sentimen  \\\n",
       "0  emang lemes bgt ya mulut lu, gue yg mau beli-b...      -1.0   \n",
       "\n",
       "                                              step01  \n",
       "0  emang lemes bgt ya mulut lu gue yg mau beli be...  "
      ]
     },
     "execution_count": 11,
     "metadata": {},
     "output_type": "execute_result"
    }
   ],
   "source": [
    "df.head(1)"
   ]
  },
  {
   "cell_type": "markdown",
   "metadata": {
    "id": "M_mswe6Ab5Fn"
   },
   "source": [
    "cek jumlah dataset"
   ]
  },
  {
   "cell_type": "code",
   "execution_count": 12,
   "metadata": {
    "colab": {
     "base_uri": "https://localhost:8080/"
    },
    "executionInfo": {
     "elapsed": 1,
     "status": "ok",
     "timestamp": 1665403342089,
     "user": {
      "displayName": "farrikh alzami",
      "userId": "11964535993149439504"
     },
     "user_tz": -420
    },
    "id": "RmArdHI8bxVD",
    "outputId": "1365258e-5712-4932-8700-63305e36768c",
    "tags": []
   },
   "outputs": [
    {
     "name": "stdout",
     "output_type": "stream",
     "text": [
      "<class 'pandas.core.frame.DataFrame'>\n",
      "RangeIndex: 905 entries, 0 to 904\n",
      "Data columns (total 3 columns):\n",
      " #   Column    Non-Null Count  Dtype  \n",
      "---  ------    --------------  -----  \n",
      " 0   Tweet     905 non-null    object \n",
      " 1   Sentimen  904 non-null    float64\n",
      " 2   step01    905 non-null    object \n",
      "dtypes: float64(1), object(2)\n",
      "memory usage: 21.3+ KB\n"
     ]
    }
   ],
   "source": [
    "df.info()"
   ]
  },
  {
   "cell_type": "markdown",
   "metadata": {
    "id": "ERYpQ-KYb9rJ"
   },
   "source": [
    "## hapus record yang kosong"
   ]
  },
  {
   "cell_type": "code",
   "execution_count": 13,
   "metadata": {
    "id": "ro18ixq6b7aS",
    "tags": []
   },
   "outputs": [],
   "source": [
    "df_hapus = df[~df['step01'].str.contains(\" \")]"
   ]
  },
  {
   "cell_type": "code",
   "execution_count": 14,
   "metadata": {
    "id": "tk6cqwtvcBNT",
    "tags": []
   },
   "outputs": [],
   "source": [
    "df_new = df[~df.isin(df_hapus)].dropna()"
   ]
  },
  {
   "cell_type": "code",
   "execution_count": 15,
   "metadata": {
    "colab": {
     "base_uri": "https://localhost:8080/"
    },
    "executionInfo": {
     "elapsed": 7,
     "status": "ok",
     "timestamp": 1665403344503,
     "user": {
      "displayName": "farrikh alzami",
      "userId": "11964535993149439504"
     },
     "user_tz": -420
    },
    "id": "Yu6dRIGycCuH",
    "outputId": "f75ac4c4-ee55-4336-be4d-ef1d8b197f33",
    "tags": []
   },
   "outputs": [
    {
     "name": "stdout",
     "output_type": "stream",
     "text": [
      "<class 'pandas.core.frame.DataFrame'>\n",
      "Index: 903 entries, 0 to 904\n",
      "Data columns (total 3 columns):\n",
      " #   Column    Non-Null Count  Dtype  \n",
      "---  ------    --------------  -----  \n",
      " 0   Tweet     903 non-null    object \n",
      " 1   Sentimen  903 non-null    float64\n",
      " 2   step01    903 non-null    object \n",
      "dtypes: float64(1), object(2)\n",
      "memory usage: 28.2+ KB\n"
     ]
    }
   ],
   "source": [
    "df_new.info()"
   ]
  },
  {
   "cell_type": "markdown",
   "metadata": {
    "id": "HpC4mJyDcLNo"
   },
   "source": [
    "## normalisasi kata slang"
   ]
  },
  {
   "cell_type": "code",
   "execution_count": 16,
   "metadata": {
    "colab": {
     "base_uri": "https://localhost:8080/"
    },
    "executionInfo": {
     "elapsed": 2,
     "status": "ok",
     "timestamp": 1665403346314,
     "user": {
      "displayName": "farrikh alzami",
      "userId": "11964535993149439504"
     },
     "user_tz": -420
    },
    "id": "3GTurr6RcYiW",
    "outputId": "431592cb-8dce-4b66-e6ed-d75d1b35f4fe",
    "tags": []
   },
   "outputs": [
    {
     "name": "stderr",
     "output_type": "stream",
     "text": [
      "[nltk_data] Downloading package punkt to\n",
      "[nltk_data]     C:\\Users\\putma\\AppData\\Roaming\\nltk_data...\n",
      "[nltk_data]   Package punkt is already up-to-date!\n"
     ]
    }
   ],
   "source": [
    "# token\n",
    "import nltk\n",
    "nltk.download('punkt')\n",
    "from nltk.tokenize import word_tokenize "
   ]
  },
  {
   "cell_type": "code",
   "execution_count": 17,
   "metadata": {
    "id": "qMe9R6gLcaQ-",
    "tags": []
   },
   "outputs": [],
   "source": [
    "def word_tokenize_wrapper(text):\n",
    "  return word_tokenize(text)"
   ]
  },
  {
   "cell_type": "code",
   "execution_count": 18,
   "metadata": {
    "id": "jMoHPkw7cdMq",
    "tags": []
   },
   "outputs": [],
   "source": [
    "df_new['tokens'] = df['step01'].apply(word_tokenize_wrapper)"
   ]
  },
  {
   "cell_type": "code",
   "execution_count": 19,
   "metadata": {
    "colab": {
     "base_uri": "https://localhost:8080/",
     "height": 363
    },
    "executionInfo": {
     "elapsed": 4,
     "status": "ok",
     "timestamp": 1665403350052,
     "user": {
      "displayName": "farrikh alzami",
      "userId": "11964535993149439504"
     },
     "user_tz": -420
    },
    "id": "xebbaeOVcfGT",
    "outputId": "0e82aa13-eaa2-49b8-a2fa-5b10edb10097",
    "tags": []
   },
   "outputs": [
    {
     "data": {
      "text/html": [
       "<div>\n",
       "<style scoped>\n",
       "    .dataframe tbody tr th:only-of-type {\n",
       "        vertical-align: middle;\n",
       "    }\n",
       "\n",
       "    .dataframe tbody tr th {\n",
       "        vertical-align: top;\n",
       "    }\n",
       "\n",
       "    .dataframe thead th {\n",
       "        text-align: right;\n",
       "    }\n",
       "</style>\n",
       "<table border=\"1\" class=\"dataframe\">\n",
       "  <thead>\n",
       "    <tr style=\"text-align: right;\">\n",
       "      <th></th>\n",
       "      <th>Tweet</th>\n",
       "      <th>Sentimen</th>\n",
       "      <th>step01</th>\n",
       "      <th>tokens</th>\n",
       "    </tr>\n",
       "  </thead>\n",
       "  <tbody>\n",
       "    <tr>\n",
       "      <th>0</th>\n",
       "      <td>emang lemes bgt ya mulut lu, gue yg mau beli-b...</td>\n",
       "      <td>-1.0</td>\n",
       "      <td>emang lemes bgt ya mulut lu gue yg mau beli be...</td>\n",
       "      <td>[emang, lemes, bgt, ya, mulut, lu, gue, yg, ma...</td>\n",
       "    </tr>\n",
       "    <tr>\n",
       "      <th>1</th>\n",
       "      <td>Cegah mata rantai Covid-19,mari kita dirumah s...</td>\n",
       "      <td>1.0</td>\n",
       "      <td>cegah mata rantai covid number mari kita dirum...</td>\n",
       "      <td>[cegah, mata, rantai, covid, number, mari, kit...</td>\n",
       "    </tr>\n",
       "    <tr>\n",
       "      <th>2</th>\n",
       "      <td>aku mohon yaAllah semoga wabah covid-19 menghi...</td>\n",
       "      <td>1.0</td>\n",
       "      <td>aku mohon yaallah semoga wabah covid number me...</td>\n",
       "      <td>[aku, mohon, yaallah, semoga, wabah, covid, nu...</td>\n",
       "    </tr>\n",
       "    <tr>\n",
       "      <th>3</th>\n",
       "      <td>Pemprov Papua Naikkan Status Jadi Tanggap Daru...</td>\n",
       "      <td>1.0</td>\n",
       "      <td>pemprov papua naikkan status jadi tanggap daru...</td>\n",
       "      <td>[pemprov, papua, naikkan, status, jadi, tangga...</td>\n",
       "    </tr>\n",
       "    <tr>\n",
       "      <th>4</th>\n",
       "      <td>Covid belum nyampe prigen mbak hmm hoax</td>\n",
       "      <td>0.0</td>\n",
       "      <td>covid belum nyampe prigen mbak hmm hoax</td>\n",
       "      <td>[covid, belum, nyampe, prigen, mbak, hmm, hoax]</td>\n",
       "    </tr>\n",
       "    <tr>\n",
       "      <th>5</th>\n",
       "      <td>Nyuruh orang pintar, lu aja Togog. Itu kerumun...</td>\n",
       "      <td>-1.0</td>\n",
       "      <td>nyuruh orang pintar lu aja togog itu kerumunan...</td>\n",
       "      <td>[nyuruh, orang, pintar, lu, aja, togog, itu, k...</td>\n",
       "    </tr>\n",
       "    <tr>\n",
       "      <th>6</th>\n",
       "      <td>Pikir2 balik byk mnde plk nk setelkn lepas covid.</td>\n",
       "      <td>0.0</td>\n",
       "      <td>pikir2 balik byk mnde plk nk setelkn lepas covid</td>\n",
       "      <td>[pikir2, balik, byk, mnde, plk, nk, setelkn, l...</td>\n",
       "    </tr>\n",
       "    <tr>\n",
       "      <th>7</th>\n",
       "      <td>Selamat pagi, hari jum'at. Jum'at keempat di k...</td>\n",
       "      <td>1.0</td>\n",
       "      <td>selamat pagi hari jum at jum at keempat di kal...</td>\n",
       "      <td>[selamat, pagi, hari, jum, at, jum, at, keempa...</td>\n",
       "    </tr>\n",
       "    <tr>\n",
       "      <th>8</th>\n",
       "      <td>Hikmah di balik musibah covid-19, smg para pej...</td>\n",
       "      <td>1.0</td>\n",
       "      <td>hikmah di balik musibah covid number smg para ...</td>\n",
       "      <td>[hikmah, di, balik, musibah, covid, number, sm...</td>\n",
       "    </tr>\n",
       "    <tr>\n",
       "      <th>9</th>\n",
       "      <td>Cegah covid-19 beserta jajaran Polsek Kuranji ...</td>\n",
       "      <td>1.0</td>\n",
       "      <td>cegah covid number beserta jajaran polsek kura...</td>\n",
       "      <td>[cegah, covid, number, beserta, jajaran, polse...</td>\n",
       "    </tr>\n",
       "  </tbody>\n",
       "</table>\n",
       "</div>"
      ],
      "text/plain": [
       "                                               Tweet  Sentimen  \\\n",
       "0  emang lemes bgt ya mulut lu, gue yg mau beli-b...      -1.0   \n",
       "1  Cegah mata rantai Covid-19,mari kita dirumah s...       1.0   \n",
       "2  aku mohon yaAllah semoga wabah covid-19 menghi...       1.0   \n",
       "3  Pemprov Papua Naikkan Status Jadi Tanggap Daru...       1.0   \n",
       "4            Covid belum nyampe prigen mbak hmm hoax       0.0   \n",
       "5  Nyuruh orang pintar, lu aja Togog. Itu kerumun...      -1.0   \n",
       "6  Pikir2 balik byk mnde plk nk setelkn lepas covid.       0.0   \n",
       "7  Selamat pagi, hari jum'at. Jum'at keempat di k...       1.0   \n",
       "8  Hikmah di balik musibah covid-19, smg para pej...       1.0   \n",
       "9  Cegah covid-19 beserta jajaran Polsek Kuranji ...       1.0   \n",
       "\n",
       "                                              step01  \\\n",
       "0  emang lemes bgt ya mulut lu gue yg mau beli be...   \n",
       "1  cegah mata rantai covid number mari kita dirum...   \n",
       "2  aku mohon yaallah semoga wabah covid number me...   \n",
       "3  pemprov papua naikkan status jadi tanggap daru...   \n",
       "4            covid belum nyampe prigen mbak hmm hoax   \n",
       "5  nyuruh orang pintar lu aja togog itu kerumunan...   \n",
       "6   pikir2 balik byk mnde plk nk setelkn lepas covid   \n",
       "7  selamat pagi hari jum at jum at keempat di kal...   \n",
       "8  hikmah di balik musibah covid number smg para ...   \n",
       "9  cegah covid number beserta jajaran polsek kura...   \n",
       "\n",
       "                                              tokens  \n",
       "0  [emang, lemes, bgt, ya, mulut, lu, gue, yg, ma...  \n",
       "1  [cegah, mata, rantai, covid, number, mari, kit...  \n",
       "2  [aku, mohon, yaallah, semoga, wabah, covid, nu...  \n",
       "3  [pemprov, papua, naikkan, status, jadi, tangga...  \n",
       "4    [covid, belum, nyampe, prigen, mbak, hmm, hoax]  \n",
       "5  [nyuruh, orang, pintar, lu, aja, togog, itu, k...  \n",
       "6  [pikir2, balik, byk, mnde, plk, nk, setelkn, l...  \n",
       "7  [selamat, pagi, hari, jum, at, jum, at, keempa...  \n",
       "8  [hikmah, di, balik, musibah, covid, number, sm...  \n",
       "9  [cegah, covid, number, beserta, jajaran, polse...  "
      ]
     },
     "execution_count": 19,
     "metadata": {},
     "output_type": "execute_result"
    }
   ],
   "source": [
    "df_new.head(10)"
   ]
  },
  {
   "cell_type": "code",
   "execution_count": 21,
   "metadata": {
    "id": "eFYvCzaLcD2k",
    "tags": []
   },
   "outputs": [],
   "source": [
    "normalized_word = pd.read_excel(\"kamus perbaikan kata.xlsx\")\n",
    "\n",
    "normalized_word_dict = {}\n",
    "\n",
    "for index, row in normalized_word.iterrows():\n",
    "    if row[0] not in normalized_word_dict:\n",
    "        normalized_word_dict[row[0]] = row[1] \n",
    "\n",
    "def normalized_term(document):\n",
    "    return [normalized_word_dict[term] if term in normalized_word_dict else term for term in document]\n",
    "\n",
    "df_new['tokens_perbaikan'] = df_new['tokens'].apply(normalized_term)"
   ]
  },
  {
   "cell_type": "code",
   "execution_count": 22,
   "metadata": {
    "colab": {
     "base_uri": "https://localhost:8080/",
     "height": 302
    },
    "executionInfo": {
     "elapsed": 3,
     "status": "ok",
     "timestamp": 1665403352451,
     "user": {
      "displayName": "farrikh alzami",
      "userId": "11964535993149439504"
     },
     "user_tz": -420
    },
    "id": "nAmSDdMfdIVR",
    "outputId": "90af7759-2d8e-42d5-be68-e9aabfaf158b",
    "tags": []
   },
   "outputs": [
    {
     "data": {
      "text/html": [
       "<div>\n",
       "<style scoped>\n",
       "    .dataframe tbody tr th:only-of-type {\n",
       "        vertical-align: middle;\n",
       "    }\n",
       "\n",
       "    .dataframe tbody tr th {\n",
       "        vertical-align: top;\n",
       "    }\n",
       "\n",
       "    .dataframe thead th {\n",
       "        text-align: right;\n",
       "    }\n",
       "</style>\n",
       "<table border=\"1\" class=\"dataframe\">\n",
       "  <thead>\n",
       "    <tr style=\"text-align: right;\">\n",
       "      <th></th>\n",
       "      <th>Tweet</th>\n",
       "      <th>Sentimen</th>\n",
       "      <th>step01</th>\n",
       "      <th>tokens</th>\n",
       "      <th>tokens_perbaikan</th>\n",
       "    </tr>\n",
       "  </thead>\n",
       "  <tbody>\n",
       "    <tr>\n",
       "      <th>0</th>\n",
       "      <td>emang lemes bgt ya mulut lu, gue yg mau beli-b...</td>\n",
       "      <td>-1.0</td>\n",
       "      <td>emang lemes bgt ya mulut lu gue yg mau beli be...</td>\n",
       "      <td>[emang, lemes, bgt, ya, mulut, lu, gue, yg, ma...</td>\n",
       "      <td>[memang, lemes, banget, iya, mulut, kamu, saya...</td>\n",
       "    </tr>\n",
       "    <tr>\n",
       "      <th>1</th>\n",
       "      <td>Cegah mata rantai Covid-19,mari kita dirumah s...</td>\n",
       "      <td>1.0</td>\n",
       "      <td>cegah mata rantai covid number mari kita dirum...</td>\n",
       "      <td>[cegah, mata, rantai, covid, number, mari, kit...</td>\n",
       "      <td>[cegah, mata, rantai, covid, number, mari, kit...</td>\n",
       "    </tr>\n",
       "    <tr>\n",
       "      <th>2</th>\n",
       "      <td>aku mohon yaAllah semoga wabah covid-19 menghi...</td>\n",
       "      <td>1.0</td>\n",
       "      <td>aku mohon yaallah semoga wabah covid number me...</td>\n",
       "      <td>[aku, mohon, yaallah, semoga, wabah, covid, nu...</td>\n",
       "      <td>[aku, mohon, yaallah, semoga, wabah, covid, nu...</td>\n",
       "    </tr>\n",
       "    <tr>\n",
       "      <th>3</th>\n",
       "      <td>Pemprov Papua Naikkan Status Jadi Tanggap Daru...</td>\n",
       "      <td>1.0</td>\n",
       "      <td>pemprov papua naikkan status jadi tanggap daru...</td>\n",
       "      <td>[pemprov, papua, naikkan, status, jadi, tangga...</td>\n",
       "      <td>[pemprov, papua, naikkan, status, jadi, tangga...</td>\n",
       "    </tr>\n",
       "    <tr>\n",
       "      <th>4</th>\n",
       "      <td>Covid belum nyampe prigen mbak hmm hoax</td>\n",
       "      <td>0.0</td>\n",
       "      <td>covid belum nyampe prigen mbak hmm hoax</td>\n",
       "      <td>[covid, belum, nyampe, prigen, mbak, hmm, hoax]</td>\n",
       "      <td>[covid, belum, nyampe, prigen, mbak, aduh, boh...</td>\n",
       "    </tr>\n",
       "  </tbody>\n",
       "</table>\n",
       "</div>"
      ],
      "text/plain": [
       "                                               Tweet  Sentimen  \\\n",
       "0  emang lemes bgt ya mulut lu, gue yg mau beli-b...      -1.0   \n",
       "1  Cegah mata rantai Covid-19,mari kita dirumah s...       1.0   \n",
       "2  aku mohon yaAllah semoga wabah covid-19 menghi...       1.0   \n",
       "3  Pemprov Papua Naikkan Status Jadi Tanggap Daru...       1.0   \n",
       "4            Covid belum nyampe prigen mbak hmm hoax       0.0   \n",
       "\n",
       "                                              step01  \\\n",
       "0  emang lemes bgt ya mulut lu gue yg mau beli be...   \n",
       "1  cegah mata rantai covid number mari kita dirum...   \n",
       "2  aku mohon yaallah semoga wabah covid number me...   \n",
       "3  pemprov papua naikkan status jadi tanggap daru...   \n",
       "4            covid belum nyampe prigen mbak hmm hoax   \n",
       "\n",
       "                                              tokens  \\\n",
       "0  [emang, lemes, bgt, ya, mulut, lu, gue, yg, ma...   \n",
       "1  [cegah, mata, rantai, covid, number, mari, kit...   \n",
       "2  [aku, mohon, yaallah, semoga, wabah, covid, nu...   \n",
       "3  [pemprov, papua, naikkan, status, jadi, tangga...   \n",
       "4    [covid, belum, nyampe, prigen, mbak, hmm, hoax]   \n",
       "\n",
       "                                    tokens_perbaikan  \n",
       "0  [memang, lemes, banget, iya, mulut, kamu, saya...  \n",
       "1  [cegah, mata, rantai, covid, number, mari, kit...  \n",
       "2  [aku, mohon, yaallah, semoga, wabah, covid, nu...  \n",
       "3  [pemprov, papua, naikkan, status, jadi, tangga...  \n",
       "4  [covid, belum, nyampe, prigen, mbak, aduh, boh...  "
      ]
     },
     "execution_count": 22,
     "metadata": {},
     "output_type": "execute_result"
    }
   ],
   "source": [
    "df_new.head()"
   ]
  },
  {
   "cell_type": "code",
   "execution_count": 23,
   "metadata": {
    "colab": {
     "base_uri": "https://localhost:8080/"
    },
    "executionInfo": {
     "elapsed": 4,
     "status": "ok",
     "timestamp": 1665403354361,
     "user": {
      "displayName": "farrikh alzami",
      "userId": "11964535993149439504"
     },
     "user_tz": -420
    },
    "id": "mDa2wUiPwkgp",
    "outputId": "3ed47017-eede-4414-aa9f-fae5eae9c8dc",
    "tags": []
   },
   "outputs": [
    {
     "data": {
      "text/plain": [
       "['emang',\n",
       " 'lemes',\n",
       " 'bgt',\n",
       " 'ya',\n",
       " 'mulut',\n",
       " 'lu',\n",
       " 'gue',\n",
       " 'yg',\n",
       " 'mau',\n",
       " 'beli',\n",
       " 'beli',\n",
       " 'obat',\n",
       " 'aja',\n",
       " 'mikirr',\n",
       " 'drmn',\n",
       " 'bisa',\n",
       " 'beli',\n",
       " 'obat',\n",
       " 'kalo',\n",
       " 'ga',\n",
       " 'kerja',\n",
       " 'devil']"
      ]
     },
     "execution_count": 23,
     "metadata": {},
     "output_type": "execute_result"
    }
   ],
   "source": [
    "df_new.iloc[0].tokens"
   ]
  },
  {
   "cell_type": "code",
   "execution_count": 24,
   "metadata": {
    "colab": {
     "base_uri": "https://localhost:8080/"
    },
    "executionInfo": {
     "elapsed": 1243,
     "status": "ok",
     "timestamp": 1665403356414,
     "user": {
      "displayName": "farrikh alzami",
      "userId": "11964535993149439504"
     },
     "user_tz": -420
    },
    "id": "z1ock8LEwKeL",
    "outputId": "c1b0b93e-39aa-4532-8a7c-89a1a8baad58",
    "tags": []
   },
   "outputs": [
    {
     "data": {
      "text/plain": [
       "['memang',\n",
       " 'lemes',\n",
       " 'banget',\n",
       " 'iya',\n",
       " 'mulut',\n",
       " 'kamu',\n",
       " 'saya',\n",
       " 'yang',\n",
       " 'mau',\n",
       " 'beli',\n",
       " 'beli',\n",
       " 'obat',\n",
       " 'saja',\n",
       " 'mikirr',\n",
       " 'drmn',\n",
       " 'bisa',\n",
       " 'beli',\n",
       " 'obat',\n",
       " 'kalau',\n",
       " 'tidak',\n",
       " 'kerja',\n",
       " 'devil']"
      ]
     },
     "execution_count": 24,
     "metadata": {},
     "output_type": "execute_result"
    }
   ],
   "source": [
    "df_new.iloc[0].tokens_perbaikan"
   ]
  },
  {
   "cell_type": "markdown",
   "metadata": {
    "id": "oZAFzaeMGppU"
   },
   "source": [
    "## Stopword - Menggunakan Modul NLTK"
   ]
  },
  {
   "cell_type": "code",
   "execution_count": 25,
   "metadata": {
    "colab": {
     "base_uri": "https://localhost:8080/"
    },
    "executionInfo": {
     "elapsed": 2,
     "status": "ok",
     "timestamp": 1665403357115,
     "user": {
      "displayName": "farrikh alzami",
      "userId": "11964535993149439504"
     },
     "user_tz": -420
    },
    "id": "I5YUrQfjGtD0",
    "outputId": "094fd773-cb0f-4240-816e-f1729419a6df",
    "tags": []
   },
   "outputs": [
    {
     "name": "stderr",
     "output_type": "stream",
     "text": [
      "[nltk_data] Downloading package stopwords to\n",
      "[nltk_data]     C:\\Users\\putma\\AppData\\Roaming\\nltk_data...\n",
      "[nltk_data]   Package stopwords is already up-to-date!\n"
     ]
    },
    {
     "data": {
      "text/plain": [
       "True"
      ]
     },
     "execution_count": 25,
     "metadata": {},
     "output_type": "execute_result"
    }
   ],
   "source": [
    "from nltk.corpus import stopwords\n",
    "nltk.download(\"stopwords\")"
   ]
  },
  {
   "cell_type": "code",
   "execution_count": 26,
   "metadata": {
    "colab": {
     "base_uri": "https://localhost:8080/",
     "height": 641
    },
    "executionInfo": {
     "elapsed": 519,
     "status": "ok",
     "timestamp": 1665403359936,
     "user": {
      "displayName": "farrikh alzami",
      "userId": "11964535993149439504"
     },
     "user_tz": -420
    },
    "id": "AlpimHRsGs_v",
    "outputId": "0d9a7d33-4213-4fee-93f4-e3562397437d",
    "tags": []
   },
   "outputs": [
    {
     "data": {
      "text/html": [
       "<div>\n",
       "<style scoped>\n",
       "    .dataframe tbody tr th:only-of-type {\n",
       "        vertical-align: middle;\n",
       "    }\n",
       "\n",
       "    .dataframe tbody tr th {\n",
       "        vertical-align: top;\n",
       "    }\n",
       "\n",
       "    .dataframe thead th {\n",
       "        text-align: right;\n",
       "    }\n",
       "</style>\n",
       "<table border=\"1\" class=\"dataframe\">\n",
       "  <thead>\n",
       "    <tr style=\"text-align: right;\">\n",
       "      <th></th>\n",
       "      <th>Tweet</th>\n",
       "      <th>Sentimen</th>\n",
       "      <th>step01</th>\n",
       "      <th>tokens</th>\n",
       "      <th>tokens_perbaikan</th>\n",
       "      <th>Stop_removal</th>\n",
       "    </tr>\n",
       "  </thead>\n",
       "  <tbody>\n",
       "    <tr>\n",
       "      <th>0</th>\n",
       "      <td>emang lemes bgt ya mulut lu, gue yg mau beli-b...</td>\n",
       "      <td>-1.0</td>\n",
       "      <td>emang lemes bgt ya mulut lu gue yg mau beli be...</td>\n",
       "      <td>[emang, lemes, bgt, ya, mulut, lu, gue, yg, ma...</td>\n",
       "      <td>[memang, lemes, banget, iya, mulut, kamu, saya...</td>\n",
       "      <td>[lemes, banget, iya, mulut, beli, beli, obat, ...</td>\n",
       "    </tr>\n",
       "    <tr>\n",
       "      <th>1</th>\n",
       "      <td>Cegah mata rantai Covid-19,mari kita dirumah s...</td>\n",
       "      <td>1.0</td>\n",
       "      <td>cegah mata rantai covid number mari kita dirum...</td>\n",
       "      <td>[cegah, mata, rantai, covid, number, mari, kit...</td>\n",
       "      <td>[cegah, mata, rantai, covid, number, mari, kit...</td>\n",
       "      <td>[cegah, mata, rantai, covid, number, mari, dir...</td>\n",
       "    </tr>\n",
       "    <tr>\n",
       "      <th>2</th>\n",
       "      <td>aku mohon yaAllah semoga wabah covid-19 menghi...</td>\n",
       "      <td>1.0</td>\n",
       "      <td>aku mohon yaallah semoga wabah covid number me...</td>\n",
       "      <td>[aku, mohon, yaallah, semoga, wabah, covid, nu...</td>\n",
       "      <td>[aku, mohon, yaallah, semoga, wabah, covid, nu...</td>\n",
       "      <td>[mohon, yaallah, semoga, wabah, covid, number,...</td>\n",
       "    </tr>\n",
       "    <tr>\n",
       "      <th>3</th>\n",
       "      <td>Pemprov Papua Naikkan Status Jadi Tanggap Daru...</td>\n",
       "      <td>1.0</td>\n",
       "      <td>pemprov papua naikkan status jadi tanggap daru...</td>\n",
       "      <td>[pemprov, papua, naikkan, status, jadi, tangga...</td>\n",
       "      <td>[pemprov, papua, naikkan, status, jadi, tangga...</td>\n",
       "      <td>[pemprov, papua, naikkan, status, tanggap, dar...</td>\n",
       "    </tr>\n",
       "    <tr>\n",
       "      <th>4</th>\n",
       "      <td>Covid belum nyampe prigen mbak hmm hoax</td>\n",
       "      <td>0.0</td>\n",
       "      <td>covid belum nyampe prigen mbak hmm hoax</td>\n",
       "      <td>[covid, belum, nyampe, prigen, mbak, hmm, hoax]</td>\n",
       "      <td>[covid, belum, nyampe, prigen, mbak, aduh, boh...</td>\n",
       "      <td>[covid, nyampe, prigen, mbak, aduh, bohong]</td>\n",
       "    </tr>\n",
       "    <tr>\n",
       "      <th>...</th>\n",
       "      <td>...</td>\n",
       "      <td>...</td>\n",
       "      <td>...</td>\n",
       "      <td>...</td>\n",
       "      <td>...</td>\n",
       "      <td>...</td>\n",
       "    </tr>\n",
       "    <tr>\n",
       "      <th>900</th>\n",
       "      <td>Seluruh negara di dunia mengalami masa sulit k...</td>\n",
       "      <td>1.0</td>\n",
       "      <td>seluruh negara di dunia mengalami masa sulit k...</td>\n",
       "      <td>[seluruh, negara, di, dunia, mengalami, masa, ...</td>\n",
       "      <td>[seluruh, negara, di, dunia, mengalami, masa, ...</td>\n",
       "      <td>[negara, dunia, mengalami, sulit, covid, numbe...</td>\n",
       "    </tr>\n",
       "    <tr>\n",
       "      <th>901</th>\n",
       "      <td>Setelah covid dan skripsi disaster selesai, ma...</td>\n",
       "      <td>1.0</td>\n",
       "      <td>setelah covid dan skripsi disaster selesai mau...</td>\n",
       "      <td>[setelah, covid, dan, skripsi, disaster, seles...</td>\n",
       "      <td>[setelah, covid, dan, skripsi, disaster, seles...</td>\n",
       "      <td>[covid, skripsi, disaster, selesai, banget, be...</td>\n",
       "    </tr>\n",
       "    <tr>\n",
       "      <th>902</th>\n",
       "      <td>Malam ini!! Projek \"BENDA BOLEH BINCANG\" 9 mal...</td>\n",
       "      <td>0.0</td>\n",
       "      <td>malam ini repeated projek allcaps benda boleh ...</td>\n",
       "      <td>[malam, ini, repeated, projek, allcaps, benda,...</td>\n",
       "      <td>[malam, ini, repeated, proyek, allcaps, benda,...</td>\n",
       "      <td>[malam, repeated, proyek, allcaps, benda, binc...</td>\n",
       "    </tr>\n",
       "    <tr>\n",
       "      <th>903</th>\n",
       "      <td>Pontang - panting di koyak covid 19</td>\n",
       "      <td>-1.0</td>\n",
       "      <td>pontang panting di koyak covid number</td>\n",
       "      <td>[pontang, panting, di, koyak, covid, number]</td>\n",
       "      <td>[pontang, panting, di, koyak, covid, number]</td>\n",
       "      <td>[pontang, panting, koyak, covid, number]</td>\n",
       "    </tr>\n",
       "    <tr>\n",
       "      <th>904</th>\n",
       "      <td>Masalahnya sekarang isu jangkitan covid. Alaaa...</td>\n",
       "      <td>-1.0</td>\n",
       "      <td>masalahnya sekarang isu jangkitan covid ala el...</td>\n",
       "      <td>[masalahnya, sekarang, isu, jangkitan, covid, ...</td>\n",
       "      <td>[masalahnya, sekarang, isu, jangkitan, covid, ...</td>\n",
       "      <td>[isu, jangkitan, covid, ala, elongated, bosan,...</td>\n",
       "    </tr>\n",
       "  </tbody>\n",
       "</table>\n",
       "<p>903 rows × 6 columns</p>\n",
       "</div>"
      ],
      "text/plain": [
       "                                                 Tweet  Sentimen  \\\n",
       "0    emang lemes bgt ya mulut lu, gue yg mau beli-b...      -1.0   \n",
       "1    Cegah mata rantai Covid-19,mari kita dirumah s...       1.0   \n",
       "2    aku mohon yaAllah semoga wabah covid-19 menghi...       1.0   \n",
       "3    Pemprov Papua Naikkan Status Jadi Tanggap Daru...       1.0   \n",
       "4              Covid belum nyampe prigen mbak hmm hoax       0.0   \n",
       "..                                                 ...       ...   \n",
       "900  Seluruh negara di dunia mengalami masa sulit k...       1.0   \n",
       "901  Setelah covid dan skripsi disaster selesai, ma...       1.0   \n",
       "902  Malam ini!! Projek \"BENDA BOLEH BINCANG\" 9 mal...       0.0   \n",
       "903                Pontang - panting di koyak covid 19      -1.0   \n",
       "904  Masalahnya sekarang isu jangkitan covid. Alaaa...      -1.0   \n",
       "\n",
       "                                                step01  \\\n",
       "0    emang lemes bgt ya mulut lu gue yg mau beli be...   \n",
       "1    cegah mata rantai covid number mari kita dirum...   \n",
       "2    aku mohon yaallah semoga wabah covid number me...   \n",
       "3    pemprov papua naikkan status jadi tanggap daru...   \n",
       "4              covid belum nyampe prigen mbak hmm hoax   \n",
       "..                                                 ...   \n",
       "900  seluruh negara di dunia mengalami masa sulit k...   \n",
       "901  setelah covid dan skripsi disaster selesai mau...   \n",
       "902  malam ini repeated projek allcaps benda boleh ...   \n",
       "903              pontang panting di koyak covid number   \n",
       "904  masalahnya sekarang isu jangkitan covid ala el...   \n",
       "\n",
       "                                                tokens  \\\n",
       "0    [emang, lemes, bgt, ya, mulut, lu, gue, yg, ma...   \n",
       "1    [cegah, mata, rantai, covid, number, mari, kit...   \n",
       "2    [aku, mohon, yaallah, semoga, wabah, covid, nu...   \n",
       "3    [pemprov, papua, naikkan, status, jadi, tangga...   \n",
       "4      [covid, belum, nyampe, prigen, mbak, hmm, hoax]   \n",
       "..                                                 ...   \n",
       "900  [seluruh, negara, di, dunia, mengalami, masa, ...   \n",
       "901  [setelah, covid, dan, skripsi, disaster, seles...   \n",
       "902  [malam, ini, repeated, projek, allcaps, benda,...   \n",
       "903       [pontang, panting, di, koyak, covid, number]   \n",
       "904  [masalahnya, sekarang, isu, jangkitan, covid, ...   \n",
       "\n",
       "                                      tokens_perbaikan  \\\n",
       "0    [memang, lemes, banget, iya, mulut, kamu, saya...   \n",
       "1    [cegah, mata, rantai, covid, number, mari, kit...   \n",
       "2    [aku, mohon, yaallah, semoga, wabah, covid, nu...   \n",
       "3    [pemprov, papua, naikkan, status, jadi, tangga...   \n",
       "4    [covid, belum, nyampe, prigen, mbak, aduh, boh...   \n",
       "..                                                 ...   \n",
       "900  [seluruh, negara, di, dunia, mengalami, masa, ...   \n",
       "901  [setelah, covid, dan, skripsi, disaster, seles...   \n",
       "902  [malam, ini, repeated, proyek, allcaps, benda,...   \n",
       "903       [pontang, panting, di, koyak, covid, number]   \n",
       "904  [masalahnya, sekarang, isu, jangkitan, covid, ...   \n",
       "\n",
       "                                          Stop_removal  \n",
       "0    [lemes, banget, iya, mulut, beli, beli, obat, ...  \n",
       "1    [cegah, mata, rantai, covid, number, mari, dir...  \n",
       "2    [mohon, yaallah, semoga, wabah, covid, number,...  \n",
       "3    [pemprov, papua, naikkan, status, tanggap, dar...  \n",
       "4          [covid, nyampe, prigen, mbak, aduh, bohong]  \n",
       "..                                                 ...  \n",
       "900  [negara, dunia, mengalami, sulit, covid, numbe...  \n",
       "901  [covid, skripsi, disaster, selesai, banget, be...  \n",
       "902  [malam, repeated, proyek, allcaps, benda, binc...  \n",
       "903           [pontang, panting, koyak, covid, number]  \n",
       "904  [isu, jangkitan, covid, ala, elongated, bosan,...  \n",
       "\n",
       "[903 rows x 6 columns]"
      ]
     },
     "execution_count": 26,
     "metadata": {},
     "output_type": "execute_result"
    }
   ],
   "source": [
    "stopword = nltk.corpus.stopwords.words('indonesian')\n",
    "\n",
    "def remove_stopwords(text):\n",
    "  text = [word for word in text if word not in stopword]\n",
    "  return text\n",
    "\n",
    "df_new['Stop_removal'] = df_new['tokens_perbaikan'].apply(lambda x: remove_stopwords(x))\n",
    "df_new"
   ]
  },
  {
   "cell_type": "code",
   "execution_count": 27,
   "metadata": {
    "colab": {
     "base_uri": "https://localhost:8080/"
    },
    "executionInfo": {
     "elapsed": 1107,
     "status": "ok",
     "timestamp": 1665403365473,
     "user": {
      "displayName": "farrikh alzami",
      "userId": "11964535993149439504"
     },
     "user_tz": -420
    },
    "id": "gOSOFPEBwx5v",
    "outputId": "71ef1320-3cfd-42dd-836e-96003bf1414f",
    "tags": []
   },
   "outputs": [
    {
     "data": {
      "text/plain": [
       "['memang',\n",
       " 'lemes',\n",
       " 'banget',\n",
       " 'iya',\n",
       " 'mulut',\n",
       " 'kamu',\n",
       " 'saya',\n",
       " 'yang',\n",
       " 'mau',\n",
       " 'beli',\n",
       " 'beli',\n",
       " 'obat',\n",
       " 'saja',\n",
       " 'mikirr',\n",
       " 'drmn',\n",
       " 'bisa',\n",
       " 'beli',\n",
       " 'obat',\n",
       " 'kalau',\n",
       " 'tidak',\n",
       " 'kerja',\n",
       " 'devil']"
      ]
     },
     "execution_count": 27,
     "metadata": {},
     "output_type": "execute_result"
    }
   ],
   "source": [
    "df_new.iloc[0].tokens_perbaikan"
   ]
  },
  {
   "cell_type": "code",
   "execution_count": 28,
   "metadata": {
    "colab": {
     "base_uri": "https://localhost:8080/"
    },
    "executionInfo": {
     "elapsed": 3,
     "status": "ok",
     "timestamp": 1665403366290,
     "user": {
      "displayName": "farrikh alzami",
      "userId": "11964535993149439504"
     },
     "user_tz": -420
    },
    "id": "w9Zqsdw8w0YU",
    "outputId": "b42295ba-7ba9-4031-9058-71abb6bba538",
    "tags": []
   },
   "outputs": [
    {
     "data": {
      "text/plain": [
       "['lemes',\n",
       " 'banget',\n",
       " 'iya',\n",
       " 'mulut',\n",
       " 'beli',\n",
       " 'beli',\n",
       " 'obat',\n",
       " 'mikirr',\n",
       " 'drmn',\n",
       " 'beli',\n",
       " 'obat',\n",
       " 'kerja',\n",
       " 'devil']"
      ]
     },
     "execution_count": 28,
     "metadata": {},
     "output_type": "execute_result"
    }
   ],
   "source": [
    "df_new.iloc[0].Stop_removal"
   ]
  },
  {
   "cell_type": "code",
   "execution_count": 29,
   "metadata": {
    "id": "GscKs3PpJLcc",
    "tags": []
   },
   "outputs": [],
   "source": [
    "i=0\n",
    "final_string_tokens = []\n",
    "for text in df_new['Stop_removal'].values:\n",
    "    EachReviewText = \"\"\n",
    "    EachReviewText = ' '.join(text)\n",
    "    final_string_tokens.append(EachReviewText)"
   ]
  },
  {
   "cell_type": "code",
   "execution_count": 30,
   "metadata": {
    "id": "o4-6_3weJkEj",
    "tags": []
   },
   "outputs": [],
   "source": [
    "df_new[\"step02\"] = final_string_tokens"
   ]
  },
  {
   "cell_type": "code",
   "execution_count": 31,
   "metadata": {
    "colab": {
     "base_uri": "https://localhost:8080/",
     "height": 337
    },
    "executionInfo": {
     "elapsed": 3,
     "status": "ok",
     "timestamp": 1665403375908,
     "user": {
      "displayName": "farrikh alzami",
      "userId": "11964535993149439504"
     },
     "user_tz": -420
    },
    "id": "Ty8ykeoaJpO7",
    "outputId": "b86c98f9-a60a-4027-dd95-7cfa6d1fe054",
    "tags": []
   },
   "outputs": [
    {
     "data": {
      "text/html": [
       "<div>\n",
       "<style scoped>\n",
       "    .dataframe tbody tr th:only-of-type {\n",
       "        vertical-align: middle;\n",
       "    }\n",
       "\n",
       "    .dataframe tbody tr th {\n",
       "        vertical-align: top;\n",
       "    }\n",
       "\n",
       "    .dataframe thead th {\n",
       "        text-align: right;\n",
       "    }\n",
       "</style>\n",
       "<table border=\"1\" class=\"dataframe\">\n",
       "  <thead>\n",
       "    <tr style=\"text-align: right;\">\n",
       "      <th></th>\n",
       "      <th>Tweet</th>\n",
       "      <th>Sentimen</th>\n",
       "      <th>step01</th>\n",
       "      <th>tokens</th>\n",
       "      <th>tokens_perbaikan</th>\n",
       "      <th>Stop_removal</th>\n",
       "      <th>step02</th>\n",
       "    </tr>\n",
       "  </thead>\n",
       "  <tbody>\n",
       "    <tr>\n",
       "      <th>0</th>\n",
       "      <td>emang lemes bgt ya mulut lu, gue yg mau beli-b...</td>\n",
       "      <td>-1.0</td>\n",
       "      <td>emang lemes bgt ya mulut lu gue yg mau beli be...</td>\n",
       "      <td>[emang, lemes, bgt, ya, mulut, lu, gue, yg, ma...</td>\n",
       "      <td>[memang, lemes, banget, iya, mulut, kamu, saya...</td>\n",
       "      <td>[lemes, banget, iya, mulut, beli, beli, obat, ...</td>\n",
       "      <td>lemes banget iya mulut beli beli obat mikirr d...</td>\n",
       "    </tr>\n",
       "    <tr>\n",
       "      <th>1</th>\n",
       "      <td>Cegah mata rantai Covid-19,mari kita dirumah s...</td>\n",
       "      <td>1.0</td>\n",
       "      <td>cegah mata rantai covid number mari kita dirum...</td>\n",
       "      <td>[cegah, mata, rantai, covid, number, mari, kit...</td>\n",
       "      <td>[cegah, mata, rantai, covid, number, mari, kit...</td>\n",
       "      <td>[cegah, mata, rantai, covid, number, mari, dir...</td>\n",
       "      <td>cegah mata rantai covid number mari dirumah mi...</td>\n",
       "    </tr>\n",
       "    <tr>\n",
       "      <th>2</th>\n",
       "      <td>aku mohon yaAllah semoga wabah covid-19 menghi...</td>\n",
       "      <td>1.0</td>\n",
       "      <td>aku mohon yaallah semoga wabah covid number me...</td>\n",
       "      <td>[aku, mohon, yaallah, semoga, wabah, covid, nu...</td>\n",
       "      <td>[aku, mohon, yaallah, semoga, wabah, covid, nu...</td>\n",
       "      <td>[mohon, yaallah, semoga, wabah, covid, number,...</td>\n",
       "      <td>mohon yaallah semoga wabah covid number menghi...</td>\n",
       "    </tr>\n",
       "    <tr>\n",
       "      <th>3</th>\n",
       "      <td>Pemprov Papua Naikkan Status Jadi Tanggap Daru...</td>\n",
       "      <td>1.0</td>\n",
       "      <td>pemprov papua naikkan status jadi tanggap daru...</td>\n",
       "      <td>[pemprov, papua, naikkan, status, jadi, tangga...</td>\n",
       "      <td>[pemprov, papua, naikkan, status, jadi, tangga...</td>\n",
       "      <td>[pemprov, papua, naikkan, status, tanggap, dar...</td>\n",
       "      <td>pemprov papua naikkan status tanggap darurat c...</td>\n",
       "    </tr>\n",
       "    <tr>\n",
       "      <th>4</th>\n",
       "      <td>Covid belum nyampe prigen mbak hmm hoax</td>\n",
       "      <td>0.0</td>\n",
       "      <td>covid belum nyampe prigen mbak hmm hoax</td>\n",
       "      <td>[covid, belum, nyampe, prigen, mbak, hmm, hoax]</td>\n",
       "      <td>[covid, belum, nyampe, prigen, mbak, aduh, boh...</td>\n",
       "      <td>[covid, nyampe, prigen, mbak, aduh, bohong]</td>\n",
       "      <td>covid nyampe prigen mbak aduh bohong</td>\n",
       "    </tr>\n",
       "  </tbody>\n",
       "</table>\n",
       "</div>"
      ],
      "text/plain": [
       "                                               Tweet  Sentimen  \\\n",
       "0  emang lemes bgt ya mulut lu, gue yg mau beli-b...      -1.0   \n",
       "1  Cegah mata rantai Covid-19,mari kita dirumah s...       1.0   \n",
       "2  aku mohon yaAllah semoga wabah covid-19 menghi...       1.0   \n",
       "3  Pemprov Papua Naikkan Status Jadi Tanggap Daru...       1.0   \n",
       "4            Covid belum nyampe prigen mbak hmm hoax       0.0   \n",
       "\n",
       "                                              step01  \\\n",
       "0  emang lemes bgt ya mulut lu gue yg mau beli be...   \n",
       "1  cegah mata rantai covid number mari kita dirum...   \n",
       "2  aku mohon yaallah semoga wabah covid number me...   \n",
       "3  pemprov papua naikkan status jadi tanggap daru...   \n",
       "4            covid belum nyampe prigen mbak hmm hoax   \n",
       "\n",
       "                                              tokens  \\\n",
       "0  [emang, lemes, bgt, ya, mulut, lu, gue, yg, ma...   \n",
       "1  [cegah, mata, rantai, covid, number, mari, kit...   \n",
       "2  [aku, mohon, yaallah, semoga, wabah, covid, nu...   \n",
       "3  [pemprov, papua, naikkan, status, jadi, tangga...   \n",
       "4    [covid, belum, nyampe, prigen, mbak, hmm, hoax]   \n",
       "\n",
       "                                    tokens_perbaikan  \\\n",
       "0  [memang, lemes, banget, iya, mulut, kamu, saya...   \n",
       "1  [cegah, mata, rantai, covid, number, mari, kit...   \n",
       "2  [aku, mohon, yaallah, semoga, wabah, covid, nu...   \n",
       "3  [pemprov, papua, naikkan, status, jadi, tangga...   \n",
       "4  [covid, belum, nyampe, prigen, mbak, aduh, boh...   \n",
       "\n",
       "                                        Stop_removal  \\\n",
       "0  [lemes, banget, iya, mulut, beli, beli, obat, ...   \n",
       "1  [cegah, mata, rantai, covid, number, mari, dir...   \n",
       "2  [mohon, yaallah, semoga, wabah, covid, number,...   \n",
       "3  [pemprov, papua, naikkan, status, tanggap, dar...   \n",
       "4        [covid, nyampe, prigen, mbak, aduh, bohong]   \n",
       "\n",
       "                                              step02  \n",
       "0  lemes banget iya mulut beli beli obat mikirr d...  \n",
       "1  cegah mata rantai covid number mari dirumah mi...  \n",
       "2  mohon yaallah semoga wabah covid number menghi...  \n",
       "3  pemprov papua naikkan status tanggap darurat c...  \n",
       "4               covid nyampe prigen mbak aduh bohong  "
      ]
     },
     "execution_count": 31,
     "metadata": {},
     "output_type": "execute_result"
    }
   ],
   "source": [
    "df_new.head()"
   ]
  },
  {
   "cell_type": "markdown",
   "metadata": {
    "id": "-F9_5pJIHw6-"
   },
   "source": [
    "## Stemming - Menggunakan Sastrawi"
   ]
  },
  {
   "cell_type": "code",
   "execution_count": 32,
   "metadata": {
    "colab": {
     "base_uri": "https://localhost:8080/"
    },
    "executionInfo": {
     "elapsed": 5113,
     "status": "ok",
     "timestamp": 1665403398110,
     "user": {
      "displayName": "farrikh alzami",
      "userId": "11964535993149439504"
     },
     "user_tz": -420
    },
    "id": "fYG4PHGxGs8E",
    "outputId": "d34f2e26-7fb3-48af-b4fc-e5a934fc3080",
    "tags": []
   },
   "outputs": [
    {
     "name": "stdout",
     "output_type": "stream",
     "text": [
      "Requirement already satisfied: sastrawi in c:\\users\\putma\\appdata\\local\\programs\\python\\python310\\lib\\site-packages (1.0.1)\n",
      "Note: you may need to restart the kernel to use updated packages.\n"
     ]
    },
    {
     "name": "stderr",
     "output_type": "stream",
     "text": [
      "\n",
      "[notice] A new release of pip available: 22.2.2 -> 23.3.1\n",
      "[notice] To update, run: python.exe -m pip install --upgrade pip\n"
     ]
    }
   ],
   "source": [
    "pip install sastrawi"
   ]
  },
  {
   "cell_type": "code",
   "execution_count": 33,
   "metadata": {
    "id": "Qhuf9k2CGs5z",
    "tags": []
   },
   "outputs": [],
   "source": [
    "from Sastrawi.Stemmer.StemmerFactory import StemmerFactory\n",
    "factory = StemmerFactory()\n",
    "stemmer = factory.create_stemmer()"
   ]
  },
  {
   "cell_type": "code",
   "execution_count": 34,
   "metadata": {
    "id": "nd-QecH2Gs3O",
    "tags": []
   },
   "outputs": [],
   "source": [
    "final_string = []\n",
    "s = \"\"\n",
    "for sentence in df_new[\"step02\"].values:\n",
    "    filteredSentence = []\n",
    "    EachReviewText = \"\"\n",
    "    s = (stemmer.stem(sentence))\n",
    "    filteredSentence.append(s)\n",
    "    \n",
    "    EachReviewText = ' '.join(filteredSentence)\n",
    "    final_string.append(EachReviewText)"
   ]
  },
  {
   "cell_type": "code",
   "execution_count": 35,
   "metadata": {
    "id": "6Fu05R6NN1nU",
    "tags": []
   },
   "outputs": [],
   "source": [
    "df_new[\"ProcessedText\"] = final_string"
   ]
  },
  {
   "cell_type": "code",
   "execution_count": 36,
   "metadata": {
    "colab": {
     "base_uri": "https://localhost:8080/",
     "height": 684
    },
    "executionInfo": {
     "elapsed": 10,
     "status": "ok",
     "timestamp": 1665403748666,
     "user": {
      "displayName": "farrikh alzami",
      "userId": "11964535993149439504"
     },
     "user_tz": -420
    },
    "id": "HRbSfQ91Gszo",
    "outputId": "0a44cccb-381d-4b68-f345-816014788c7e",
    "tags": []
   },
   "outputs": [
    {
     "data": {
      "text/html": [
       "<div>\n",
       "<style scoped>\n",
       "    .dataframe tbody tr th:only-of-type {\n",
       "        vertical-align: middle;\n",
       "    }\n",
       "\n",
       "    .dataframe tbody tr th {\n",
       "        vertical-align: top;\n",
       "    }\n",
       "\n",
       "    .dataframe thead th {\n",
       "        text-align: right;\n",
       "    }\n",
       "</style>\n",
       "<table border=\"1\" class=\"dataframe\">\n",
       "  <thead>\n",
       "    <tr style=\"text-align: right;\">\n",
       "      <th></th>\n",
       "      <th>Tweet</th>\n",
       "      <th>Sentimen</th>\n",
       "      <th>step01</th>\n",
       "      <th>tokens</th>\n",
       "      <th>tokens_perbaikan</th>\n",
       "      <th>Stop_removal</th>\n",
       "      <th>step02</th>\n",
       "      <th>ProcessedText</th>\n",
       "    </tr>\n",
       "  </thead>\n",
       "  <tbody>\n",
       "    <tr>\n",
       "      <th>0</th>\n",
       "      <td>emang lemes bgt ya mulut lu, gue yg mau beli-b...</td>\n",
       "      <td>-1.0</td>\n",
       "      <td>emang lemes bgt ya mulut lu gue yg mau beli be...</td>\n",
       "      <td>[emang, lemes, bgt, ya, mulut, lu, gue, yg, ma...</td>\n",
       "      <td>[memang, lemes, banget, iya, mulut, kamu, saya...</td>\n",
       "      <td>[lemes, banget, iya, mulut, beli, beli, obat, ...</td>\n",
       "      <td>lemes banget iya mulut beli beli obat mikirr d...</td>\n",
       "      <td>lemes banget iya mulut beli beli obat mikirr d...</td>\n",
       "    </tr>\n",
       "    <tr>\n",
       "      <th>1</th>\n",
       "      <td>Cegah mata rantai Covid-19,mari kita dirumah s...</td>\n",
       "      <td>1.0</td>\n",
       "      <td>cegah mata rantai covid number mari kita dirum...</td>\n",
       "      <td>[cegah, mata, rantai, covid, number, mari, kit...</td>\n",
       "      <td>[cegah, mata, rantai, covid, number, mari, kit...</td>\n",
       "      <td>[cegah, mata, rantai, covid, number, mari, dir...</td>\n",
       "      <td>cegah mata rantai covid number mari dirumah mi...</td>\n",
       "      <td>cegah mata rantai covid number mari rumah ming...</td>\n",
       "    </tr>\n",
       "    <tr>\n",
       "      <th>2</th>\n",
       "      <td>aku mohon yaAllah semoga wabah covid-19 menghi...</td>\n",
       "      <td>1.0</td>\n",
       "      <td>aku mohon yaallah semoga wabah covid number me...</td>\n",
       "      <td>[aku, mohon, yaallah, semoga, wabah, covid, nu...</td>\n",
       "      <td>[aku, mohon, yaallah, semoga, wabah, covid, nu...</td>\n",
       "      <td>[mohon, yaallah, semoga, wabah, covid, number,...</td>\n",
       "      <td>mohon yaallah semoga wabah covid number menghi...</td>\n",
       "      <td>mohon yaallah moga wabah covid number hilang r...</td>\n",
       "    </tr>\n",
       "    <tr>\n",
       "      <th>3</th>\n",
       "      <td>Pemprov Papua Naikkan Status Jadi Tanggap Daru...</td>\n",
       "      <td>1.0</td>\n",
       "      <td>pemprov papua naikkan status jadi tanggap daru...</td>\n",
       "      <td>[pemprov, papua, naikkan, status, jadi, tangga...</td>\n",
       "      <td>[pemprov, papua, naikkan, status, jadi, tangga...</td>\n",
       "      <td>[pemprov, papua, naikkan, status, tanggap, dar...</td>\n",
       "      <td>pemprov papua naikkan status tanggap darurat c...</td>\n",
       "      <td>pemprov papua naik status tanggap darurat covi...</td>\n",
       "    </tr>\n",
       "    <tr>\n",
       "      <th>4</th>\n",
       "      <td>Covid belum nyampe prigen mbak hmm hoax</td>\n",
       "      <td>0.0</td>\n",
       "      <td>covid belum nyampe prigen mbak hmm hoax</td>\n",
       "      <td>[covid, belum, nyampe, prigen, mbak, hmm, hoax]</td>\n",
       "      <td>[covid, belum, nyampe, prigen, mbak, aduh, boh...</td>\n",
       "      <td>[covid, nyampe, prigen, mbak, aduh, bohong]</td>\n",
       "      <td>covid nyampe prigen mbak aduh bohong</td>\n",
       "      <td>covid nyampe prigen mbak aduh bohong</td>\n",
       "    </tr>\n",
       "    <tr>\n",
       "      <th>5</th>\n",
       "      <td>Nyuruh orang pintar, lu aja Togog. Itu kerumun...</td>\n",
       "      <td>-1.0</td>\n",
       "      <td>nyuruh orang pintar lu aja togog itu kerumunan...</td>\n",
       "      <td>[nyuruh, orang, pintar, lu, aja, togog, itu, k...</td>\n",
       "      <td>[nyuruh, orang, pintar, kamu, saja, togog, itu...</td>\n",
       "      <td>[nyuruh, orang, pintar, togog, kerumunan, oran...</td>\n",
       "      <td>nyuruh orang pintar togog kerumunan orang nula...</td>\n",
       "      <td>nyuruh orang pintar togog kerumun orang nulari...</td>\n",
       "    </tr>\n",
       "    <tr>\n",
       "      <th>6</th>\n",
       "      <td>Pikir2 balik byk mnde plk nk setelkn lepas covid.</td>\n",
       "      <td>0.0</td>\n",
       "      <td>pikir2 balik byk mnde plk nk setelkn lepas covid</td>\n",
       "      <td>[pikir2, balik, byk, mnde, plk, nk, setelkn, l...</td>\n",
       "      <td>[pikir2, balik, banyak, mnde, plk, nk, setelkn...</td>\n",
       "      <td>[pikir2, mnde, plk, nk, setelkn, lepas, covid]</td>\n",
       "      <td>pikir2 mnde plk nk setelkn lepas covid</td>\n",
       "      <td>pikir2 mnde plk nk setelkn lepas covid</td>\n",
       "    </tr>\n",
       "    <tr>\n",
       "      <th>7</th>\n",
       "      <td>Selamat pagi, hari jum'at. Jum'at keempat di k...</td>\n",
       "      <td>1.0</td>\n",
       "      <td>selamat pagi hari jum at jum at keempat di kal...</td>\n",
       "      <td>[selamat, pagi, hari, jum, at, jum, at, keempa...</td>\n",
       "      <td>[selamat, pagi, hari, jum, at, jum, at, keempa...</td>\n",
       "      <td>[selamat, pagi, jum, at, jum, at, keempat, pan...</td>\n",
       "      <td>selamat pagi jum at jum at keempat pandemi cov...</td>\n",
       "      <td>selamat pagi jum at jum at empat pandemi covid...</td>\n",
       "    </tr>\n",
       "    <tr>\n",
       "      <th>8</th>\n",
       "      <td>Hikmah di balik musibah covid-19, smg para pej...</td>\n",
       "      <td>1.0</td>\n",
       "      <td>hikmah di balik musibah covid number smg para ...</td>\n",
       "      <td>[hikmah, di, balik, musibah, covid, number, sm...</td>\n",
       "      <td>[hikmah, di, balik, musibah, covid, number, se...</td>\n",
       "      <td>[hikmah, musibah, covid, number, semoga, pejab...</td>\n",
       "      <td>hikmah musibah covid number semoga pejabat pem...</td>\n",
       "      <td>hikmah musibah covid number moga jabat perinta...</td>\n",
       "    </tr>\n",
       "    <tr>\n",
       "      <th>9</th>\n",
       "      <td>Cegah covid-19 beserta jajaran Polsek Kuranji ...</td>\n",
       "      <td>1.0</td>\n",
       "      <td>cegah covid number beserta jajaran polsek kura...</td>\n",
       "      <td>[cegah, covid, number, beserta, jajaran, polse...</td>\n",
       "      <td>[cegah, covid, number, beserta, jajaran, polse...</td>\n",
       "      <td>[cegah, covid, number, beserta, jajaran, polse...</td>\n",
       "      <td>cegah covid number beserta jajaran polsek kura...</td>\n",
       "      <td>cegah covid number serta jajar polsek ranji ak...</td>\n",
       "    </tr>\n",
       "  </tbody>\n",
       "</table>\n",
       "</div>"
      ],
      "text/plain": [
       "                                               Tweet  Sentimen  \\\n",
       "0  emang lemes bgt ya mulut lu, gue yg mau beli-b...      -1.0   \n",
       "1  Cegah mata rantai Covid-19,mari kita dirumah s...       1.0   \n",
       "2  aku mohon yaAllah semoga wabah covid-19 menghi...       1.0   \n",
       "3  Pemprov Papua Naikkan Status Jadi Tanggap Daru...       1.0   \n",
       "4            Covid belum nyampe prigen mbak hmm hoax       0.0   \n",
       "5  Nyuruh orang pintar, lu aja Togog. Itu kerumun...      -1.0   \n",
       "6  Pikir2 balik byk mnde plk nk setelkn lepas covid.       0.0   \n",
       "7  Selamat pagi, hari jum'at. Jum'at keempat di k...       1.0   \n",
       "8  Hikmah di balik musibah covid-19, smg para pej...       1.0   \n",
       "9  Cegah covid-19 beserta jajaran Polsek Kuranji ...       1.0   \n",
       "\n",
       "                                              step01  \\\n",
       "0  emang lemes bgt ya mulut lu gue yg mau beli be...   \n",
       "1  cegah mata rantai covid number mari kita dirum...   \n",
       "2  aku mohon yaallah semoga wabah covid number me...   \n",
       "3  pemprov papua naikkan status jadi tanggap daru...   \n",
       "4            covid belum nyampe prigen mbak hmm hoax   \n",
       "5  nyuruh orang pintar lu aja togog itu kerumunan...   \n",
       "6   pikir2 balik byk mnde plk nk setelkn lepas covid   \n",
       "7  selamat pagi hari jum at jum at keempat di kal...   \n",
       "8  hikmah di balik musibah covid number smg para ...   \n",
       "9  cegah covid number beserta jajaran polsek kura...   \n",
       "\n",
       "                                              tokens  \\\n",
       "0  [emang, lemes, bgt, ya, mulut, lu, gue, yg, ma...   \n",
       "1  [cegah, mata, rantai, covid, number, mari, kit...   \n",
       "2  [aku, mohon, yaallah, semoga, wabah, covid, nu...   \n",
       "3  [pemprov, papua, naikkan, status, jadi, tangga...   \n",
       "4    [covid, belum, nyampe, prigen, mbak, hmm, hoax]   \n",
       "5  [nyuruh, orang, pintar, lu, aja, togog, itu, k...   \n",
       "6  [pikir2, balik, byk, mnde, plk, nk, setelkn, l...   \n",
       "7  [selamat, pagi, hari, jum, at, jum, at, keempa...   \n",
       "8  [hikmah, di, balik, musibah, covid, number, sm...   \n",
       "9  [cegah, covid, number, beserta, jajaran, polse...   \n",
       "\n",
       "                                    tokens_perbaikan  \\\n",
       "0  [memang, lemes, banget, iya, mulut, kamu, saya...   \n",
       "1  [cegah, mata, rantai, covid, number, mari, kit...   \n",
       "2  [aku, mohon, yaallah, semoga, wabah, covid, nu...   \n",
       "3  [pemprov, papua, naikkan, status, jadi, tangga...   \n",
       "4  [covid, belum, nyampe, prigen, mbak, aduh, boh...   \n",
       "5  [nyuruh, orang, pintar, kamu, saja, togog, itu...   \n",
       "6  [pikir2, balik, banyak, mnde, plk, nk, setelkn...   \n",
       "7  [selamat, pagi, hari, jum, at, jum, at, keempa...   \n",
       "8  [hikmah, di, balik, musibah, covid, number, se...   \n",
       "9  [cegah, covid, number, beserta, jajaran, polse...   \n",
       "\n",
       "                                        Stop_removal  \\\n",
       "0  [lemes, banget, iya, mulut, beli, beli, obat, ...   \n",
       "1  [cegah, mata, rantai, covid, number, mari, dir...   \n",
       "2  [mohon, yaallah, semoga, wabah, covid, number,...   \n",
       "3  [pemprov, papua, naikkan, status, tanggap, dar...   \n",
       "4        [covid, nyampe, prigen, mbak, aduh, bohong]   \n",
       "5  [nyuruh, orang, pintar, togog, kerumunan, oran...   \n",
       "6     [pikir2, mnde, plk, nk, setelkn, lepas, covid]   \n",
       "7  [selamat, pagi, jum, at, jum, at, keempat, pan...   \n",
       "8  [hikmah, musibah, covid, number, semoga, pejab...   \n",
       "9  [cegah, covid, number, beserta, jajaran, polse...   \n",
       "\n",
       "                                              step02  \\\n",
       "0  lemes banget iya mulut beli beli obat mikirr d...   \n",
       "1  cegah mata rantai covid number mari dirumah mi...   \n",
       "2  mohon yaallah semoga wabah covid number menghi...   \n",
       "3  pemprov papua naikkan status tanggap darurat c...   \n",
       "4               covid nyampe prigen mbak aduh bohong   \n",
       "5  nyuruh orang pintar togog kerumunan orang nula...   \n",
       "6             pikir2 mnde plk nk setelkn lepas covid   \n",
       "7  selamat pagi jum at jum at keempat pandemi cov...   \n",
       "8  hikmah musibah covid number semoga pejabat pem...   \n",
       "9  cegah covid number beserta jajaran polsek kura...   \n",
       "\n",
       "                                       ProcessedText  \n",
       "0  lemes banget iya mulut beli beli obat mikirr d...  \n",
       "1  cegah mata rantai covid number mari rumah ming...  \n",
       "2  mohon yaallah moga wabah covid number hilang r...  \n",
       "3  pemprov papua naik status tanggap darurat covi...  \n",
       "4               covid nyampe prigen mbak aduh bohong  \n",
       "5  nyuruh orang pintar togog kerumun orang nulari...  \n",
       "6             pikir2 mnde plk nk setelkn lepas covid  \n",
       "7  selamat pagi jum at jum at empat pandemi covid...  \n",
       "8  hikmah musibah covid number moga jabat perinta...  \n",
       "9  cegah covid number serta jajar polsek ranji ak...  "
      ]
     },
     "execution_count": 36,
     "metadata": {},
     "output_type": "execute_result"
    }
   ],
   "source": [
    "df_new.head(10)"
   ]
  },
  {
   "cell_type": "markdown",
   "metadata": {
    "id": "jVMr6XUee0Y6"
   },
   "source": [
    "## simpan hasil preprocessing"
   ]
  },
  {
   "cell_type": "code",
   "execution_count": 37,
   "metadata": {
    "id": "GGZFw6G9evQG",
    "tags": []
   },
   "outputs": [],
   "source": [
    "df_new.to_csv('clean_dataset_part01.csv',sep=\";\")"
   ]
  },
  {
   "cell_type": "markdown",
   "metadata": {
    "id": "MrkJ4dCTe-_J"
   },
   "source": [
    "# Penataan Data"
   ]
  },
  {
   "cell_type": "markdown",
   "metadata": {
    "id": "llyNObWFMbT_"
   },
   "source": [
    "## pembagian fitur dan label"
   ]
  },
  {
   "cell_type": "code",
   "execution_count": 38,
   "metadata": {
    "id": "yNpmt4magLnx",
    "tags": []
   },
   "outputs": [],
   "source": [
    "import pandas as pd\n",
    "import numpy as np"
   ]
  },
  {
   "cell_type": "code",
   "execution_count": 39,
   "metadata": {
    "id": "6uHL0jjJLjJo",
    "tags": []
   },
   "outputs": [],
   "source": [
    "dataset = pd.read_csv('clean_dataset_part01.csv',sep=\";\")"
   ]
  },
  {
   "cell_type": "code",
   "execution_count": 40,
   "metadata": {
    "colab": {
     "base_uri": "https://localhost:8080/"
    },
    "executionInfo": {
     "elapsed": 3,
     "status": "ok",
     "timestamp": 1665403778927,
     "user": {
      "displayName": "farrikh alzami",
      "userId": "11964535993149439504"
     },
     "user_tz": -420
    },
    "id": "jxvzWAcdyKRD",
    "outputId": "469d3977-f880-4eb1-8abe-12ad1477869d",
    "tags": []
   },
   "outputs": [
    {
     "name": "stdout",
     "output_type": "stream",
     "text": [
      "<class 'pandas.core.frame.DataFrame'>\n",
      "RangeIndex: 903 entries, 0 to 902\n",
      "Data columns (total 9 columns):\n",
      " #   Column            Non-Null Count  Dtype  \n",
      "---  ------            --------------  -----  \n",
      " 0   Unnamed: 0        903 non-null    int64  \n",
      " 1   Tweet             903 non-null    object \n",
      " 2   Sentimen          903 non-null    float64\n",
      " 3   step01            903 non-null    object \n",
      " 4   tokens            903 non-null    object \n",
      " 5   tokens_perbaikan  903 non-null    object \n",
      " 6   Stop_removal      903 non-null    object \n",
      " 7   step02            903 non-null    object \n",
      " 8   ProcessedText     903 non-null    object \n",
      "dtypes: float64(1), int64(1), object(7)\n",
      "memory usage: 63.6+ KB\n"
     ]
    }
   ],
   "source": [
    "dataset.info()"
   ]
  },
  {
   "cell_type": "code",
   "execution_count": 41,
   "metadata": {
    "id": "2CQhuVgALr0J",
    "tags": []
   },
   "outputs": [],
   "source": [
    "dataset_feature = dataset['ProcessedText'].astype(str)"
   ]
  },
  {
   "cell_type": "code",
   "execution_count": 42,
   "metadata": {
    "colab": {
     "base_uri": "https://localhost:8080/"
    },
    "executionInfo": {
     "elapsed": 513,
     "status": "ok",
     "timestamp": 1665403809731,
     "user": {
      "displayName": "farrikh alzami",
      "userId": "11964535993149439504"
     },
     "user_tz": -420
    },
    "id": "nhOB8hceMQhE",
    "outputId": "d9ed6c29-7781-44b3-ce1e-6145d6ceaf43",
    "tags": []
   },
   "outputs": [
    {
     "data": {
      "text/plain": [
       "0    lemes banget iya mulut beli beli obat mikirr d...\n",
       "1    cegah mata rantai covid number mari rumah ming...\n",
       "2    mohon yaallah moga wabah covid number hilang r...\n",
       "3    pemprov papua naik status tanggap darurat covi...\n",
       "4                 covid nyampe prigen mbak aduh bohong\n",
       "5    nyuruh orang pintar togog kerumun orang nulari...\n",
       "6               pikir2 mnde plk nk setelkn lepas covid\n",
       "7    selamat pagi jum at jum at empat pandemi covid...\n",
       "8    hikmah musibah covid number moga jabat perinta...\n",
       "9    cegah covid number serta jajar polsek ranji ak...\n",
       "Name: ProcessedText, dtype: object"
      ]
     },
     "execution_count": 42,
     "metadata": {},
     "output_type": "execute_result"
    }
   ],
   "source": [
    "dataset_feature.head(10)"
   ]
  },
  {
   "cell_type": "code",
   "execution_count": 43,
   "metadata": {
    "id": "V0JQGHvqMQw3",
    "tags": []
   },
   "outputs": [],
   "source": [
    "dataset_label = dataset['Sentimen']"
   ]
  },
  {
   "cell_type": "code",
   "execution_count": 44,
   "metadata": {
    "colab": {
     "base_uri": "https://localhost:8080/"
    },
    "executionInfo": {
     "elapsed": 2,
     "status": "ok",
     "timestamp": 1665403822152,
     "user": {
      "displayName": "farrikh alzami",
      "userId": "11964535993149439504"
     },
     "user_tz": -420
    },
    "id": "3uxBA6OiMUy_",
    "outputId": "eeb2c564-3378-4ac8-da82-9cd9ebf13a79",
    "tags": []
   },
   "outputs": [
    {
     "data": {
      "text/plain": [
       "0   -1.0\n",
       "1    1.0\n",
       "2    1.0\n",
       "3    1.0\n",
       "4    0.0\n",
       "5   -1.0\n",
       "6    0.0\n",
       "7    1.0\n",
       "8    1.0\n",
       "9    1.0\n",
       "Name: Sentimen, dtype: float64"
      ]
     },
     "execution_count": 44,
     "metadata": {},
     "output_type": "execute_result"
    }
   ],
   "source": [
    "dataset_label.head(10)"
   ]
  },
  {
   "cell_type": "markdown",
   "metadata": {
    "id": "iCSb35pwMXvP"
   },
   "source": [
    "## distribusi label"
   ]
  },
  {
   "cell_type": "code",
   "execution_count": 45,
   "metadata": {
    "id": "dYRcULM9MaJm",
    "tags": []
   },
   "outputs": [],
   "source": [
    "import matplotlib.pyplot as plt\n",
    "import seaborn as sns\n",
    "%matplotlib inline"
   ]
  },
  {
   "cell_type": "code",
   "execution_count": 46,
   "metadata": {
    "colab": {
     "base_uri": "https://localhost:8080/",
     "height": 553
    },
    "executionInfo": {
     "elapsed": 647,
     "status": "ok",
     "timestamp": 1665403829194,
     "user": {
      "displayName": "farrikh alzami",
      "userId": "11964535993149439504"
     },
     "user_tz": -420
    },
    "id": "FtY6ATtHMgfh",
    "outputId": "dd84fade-1874-4d85-86b8-efff71775c56",
    "tags": []
   },
   "outputs": [
    {
     "name": "stderr",
     "output_type": "stream",
     "text": [
      "C:\\Users\\putma\\AppData\\Local\\Temp\\ipykernel_30048\\1470841120.py:3: UserWarning: \n",
      "\n",
      "`distplot` is a deprecated function and will be removed in seaborn v0.14.0.\n",
      "\n",
      "Please adapt your code to use either `displot` (a figure-level function with\n",
      "similar flexibility) or `histplot` (an axes-level function for histograms).\n",
      "\n",
      "For a guide to updating your code to use the new functions, please see\n",
      "https://gist.github.com/mwaskom/de44147ed2974457ad6372750bbe5751\n",
      "\n",
      "  sns.distplot(dataset_label, label=f'target, skew: {dataset_label.skew():.2f}')\n"
     ]
    },
    {
     "data": {
      "image/png": "[encoded data removed]",
      "text/plain": [
       "<Figure size 1200x800 with 1 Axes>"
      ]
     },
     "metadata": {},
     "output_type": "display_data"
    }
   ],
   "source": [
    "# Visualizing the target variable\n",
    "plt.figure(figsize=(12,8))\n",
    "sns.distplot(dataset_label, label=f'target, skew: {dataset_label.skew():.2f}')\n",
    "plt.legend(loc='best')\n",
    "plt.show()"
   ]
  },
  {
   "cell_type": "code",
   "execution_count": 47,
   "metadata": {
    "colab": {
     "base_uri": "https://localhost:8080/"
    },
    "executionInfo": {
     "elapsed": 1056,
     "status": "ok",
     "timestamp": 1665403841125,
     "user": {
      "displayName": "farrikh alzami",
      "userId": "11964535993149439504"
     },
     "user_tz": -420
    },
    "id": "zvqzsl49MheB",
    "outputId": "d8589690-7831-4d87-f99c-debeba024cdc",
    "tags": []
   },
   "outputs": [
    {
     "data": {
      "text/plain": [
       "Sentimen\n",
       " 1.0    441\n",
       " 0.0    266\n",
       "-1.0    196\n",
       "Name: count, dtype: int64"
      ]
     },
     "execution_count": 47,
     "metadata": {},
     "output_type": "execute_result"
    }
   ],
   "source": [
    "dataset_label.value_counts()"
   ]
  },
  {
   "cell_type": "markdown",
   "metadata": {
    "id": "AjkdN3kOMk_I"
   },
   "source": [
    "# Ekstraksi Fitur dan Machine Learning"
   ]
  },
  {
   "cell_type": "code",
   "execution_count": 48,
   "metadata": {
    "id": "-aMoIuqfMkYK",
    "tags": []
   },
   "outputs": [],
   "source": [
    "from sklearn.model_selection import GridSearchCV\n",
    "from sklearn.metrics import accuracy_score\n",
    "from sklearn.metrics import recall_score\n",
    "from sklearn.metrics import f1_score\n",
    "from sklearn.metrics import precision_score\n",
    "from sklearn.model_selection import train_test_split"
   ]
  },
  {
   "cell_type": "code",
   "execution_count": 49,
   "metadata": {
    "id": "JDw5U3eRMx1K",
    "tags": []
   },
   "outputs": [],
   "source": [
    "train_x, test_x, train_label, test_label = train_test_split(dataset_feature, dataset_label, test_size = 0.3, random_state=42)"
   ]
  },
  {
   "cell_type": "code",
   "execution_count": 50,
   "metadata": {
    "tags": []
   },
   "outputs": [
    {
     "data": {
      "text/plain": [
       "70     tips ilmuwan tingkat kebal tubuh mari lawan co...\n",
       "457    cegah covid number serta jajar polsek ranji ak...\n",
       "218    warga kabupaten lampung utara nyata positif pa...\n",
       "250    mimpi malam allcaps psbb allcaps tahan batal c...\n",
       "39     ayo elongated repeated putus mata rantai seman...\n",
       "                             ...                        \n",
       "864          orang bahaya covid number lurus belok pergi\n",
       "638    halo gerak lawan covid number ayo juang inform...\n",
       "352    personil polsek karanglewas laksana patroli ma...\n",
       "465    amal langkah langkah cegah tular allcaps covid...\n",
       "640    wakakakkaka repeated puter cahaya tolong time ...\n",
       "Name: ProcessedText, Length: 271, dtype: object"
      ]
     },
     "execution_count": 50,
     "metadata": {},
     "output_type": "execute_result"
    }
   ],
   "source": [
    "test_x"
   ]
  },
  {
   "cell_type": "markdown",
   "metadata": {
    "id": "vPvBu0LrM0oD"
   },
   "source": [
    "## load TF-IDF"
   ]
  },
  {
   "cell_type": "code",
   "execution_count": 51,
   "metadata": {
    "id": "XwzScubZMzgY",
    "tags": []
   },
   "outputs": [],
   "source": [
    "from sklearn.feature_extraction.text import TfidfVectorizer\n",
    "Tfidf_Vectorizer = TfidfVectorizer()"
   ]
  },
  {
   "cell_type": "markdown",
   "metadata": {
    "id": "sYaLrOg2M5AP"
   },
   "source": [
    "## Naive Bayes"
   ]
  },
  {
   "cell_type": "code",
   "execution_count": 52,
   "metadata": {
    "id": "2i-BhMXXM4FS",
    "tags": []
   },
   "outputs": [],
   "source": [
    "from sklearn.naive_bayes import MultinomialNB"
   ]
  },
  {
   "cell_type": "code",
   "execution_count": 53,
   "metadata": {
    "id": "2qSlLSEGM7sa",
    "tags": []
   },
   "outputs": [],
   "source": [
    "from sklearn.pipeline import Pipeline\n",
    "classifier_nb = Pipeline([\n",
    "    ('tfidf', TfidfVectorizer()),\n",
    "    ('model', MultinomialNB()),\n",
    "])"
   ]
  },
  {
   "cell_type": "code",
   "execution_count": 54,
   "metadata": {
    "id": "brvxUKO0M87t",
    "tags": []
   },
   "outputs": [],
   "source": [
    "parameters_nb = {\n",
    "    'tfidf__ngram_range': [(1, 1), (1, 2), (1, 3), (1, 4)],\n",
    "    'model__alpha': (0.0001, 0.001, 0.1, 1, 10, 100)\n",
    "}"
   ]
  },
  {
   "cell_type": "code",
   "execution_count": 55,
   "metadata": {
    "id": "UEQHo9ZoNACG",
    "tags": []
   },
   "outputs": [],
   "source": [
    "classifier_nb = GridSearchCV(classifier_nb, parameters_nb, cv = 3, n_jobs=-1)"
   ]
  },
  {
   "cell_type": "code",
   "execution_count": 56,
   "metadata": {
    "colab": {
     "base_uri": "https://localhost:8080/"
    },
    "executionInfo": {
     "elapsed": 4388,
     "status": "ok",
     "timestamp": 1665403952442,
     "user": {
      "displayName": "farrikh alzami",
      "userId": "11964535993149439504"
     },
     "user_tz": -420
    },
    "id": "Y64S8WkyNBoL",
    "outputId": "0d3dd373-e9cf-4e7c-c814-8df95e10b5a7",
    "tags": []
   },
   "outputs": [
    {
     "data": {
      "text/html": [
       "<style>#sk-container-id-1 {color: black;background-color: white;}#sk-container-id-1 pre{padding: 0;}#sk-container-id-1 div.sk-toggleable {background-color: white;}#sk-container-id-1 label.sk-toggleable__label {cursor: pointer;display: block;width: 100%;margin-bottom: 0;padding: 0.3em;box-sizing: border-box;text-align: center;}#sk-container-id-1 label.sk-toggleable__label-arrow:before {content: \"▸\";float: left;margin-right: 0.25em;color: #696969;}#sk-container-id-1 label.sk-toggleable__label-arrow:hover:before {color: black;}#sk-container-id-1 div.sk-estimator:hover label.sk-toggleable__label-arrow:before {color: black;}#sk-container-id-1 div.sk-toggleable__content {max-height: 0;max-width: 0;overflow: hidden;text-align: left;background-color: #f0f8ff;}#sk-container-id-1 div.sk-toggleable__content pre {margin: 0.2em;color: black;border-radius: 0.25em;background-color: #f0f8ff;}#sk-container-id-1 input.sk-toggleable__control:checked~div.sk-toggleable__content {max-height: 200px;max-width: 100%;overflow: auto;}#sk-container-id-1 input.sk-toggleable__control:checked~label.sk-toggleable__label-arrow:before {content: \"▾\";}#sk-container-id-1 div.sk-estimator input.sk-toggleable__control:checked~label.sk-toggleable__label {background-color: #d4ebff;}#sk-container-id-1 div.sk-label input.sk-toggleable__control:checked~label.sk-toggleable__label {background-color: #d4ebff;}#sk-container-id-1 input.sk-hidden--visually {border: 0;clip: rect(1px 1px 1px 1px);clip: rect(1px, 1px, 1px, 1px);height: 1px;margin: -1px;overflow: hidden;padding: 0;position: absolute;width: 1px;}#sk-container-id-1 div.sk-estimator {font-family: monospace;background-color: #f0f8ff;border: 1px dotted black;border-radius: 0.25em;box-sizing: border-box;margin-bottom: 0.5em;}#sk-container-id-1 div.sk-estimator:hover {background-color: #d4ebff;}#sk-container-id-1 div.sk-parallel-item::after {content: \"\";width: 100%;border-bottom: 1px solid gray;flex-grow: 1;}#sk-container-id-1 div.sk-label:hover label.sk-toggleable__label {background-color: #d4ebff;}#sk-container-id-1 div.sk-serial::before {content: \"\";position: absolute;border-left: 1px solid gray;box-sizing: border-box;top: 0;bottom: 0;left: 50%;z-index: 0;}#sk-container-id-1 div.sk-serial {display: flex;flex-direction: column;align-items: center;background-color: white;padding-right: 0.2em;padding-left: 0.2em;position: relative;}#sk-container-id-1 div.sk-item {position: relative;z-index: 1;}#sk-container-id-1 div.sk-parallel {display: flex;align-items: stretch;justify-content: center;background-color: white;position: relative;}#sk-container-id-1 div.sk-item::before, #sk-container-id-1 div.sk-parallel-item::before {content: \"\";position: absolute;border-left: 1px solid gray;box-sizing: border-box;top: 0;bottom: 0;left: 50%;z-index: -1;}#sk-container-id-1 div.sk-parallel-item {display: flex;flex-direction: column;z-index: 1;position: relative;background-color: white;}#sk-container-id-1 div.sk-parallel-item:first-child::after {align-self: flex-end;width: 50%;}#sk-container-id-1 div.sk-parallel-item:last-child::after {align-self: flex-start;width: 50%;}#sk-container-id-1 div.sk-parallel-item:only-child::after {width: 0;}#sk-container-id-1 div.sk-dashed-wrapped {border: 1px dashed gray;margin: 0 0.4em 0.5em 0.4em;box-sizing: border-box;padding-bottom: 0.4em;background-color: white;}#sk-container-id-1 div.sk-label label {font-family: monospace;font-weight: bold;display: inline-block;line-height: 1.2em;}#sk-container-id-1 div.sk-label-container {text-align: center;}#sk-container-id-1 div.sk-container {/* jupyter's `normalize.less` sets `[hidden] { display: none; }` but bootstrap.min.css set `[hidden] { display: none !important; }` so we also need the `!important` here to be able to override the default hidden behavior on the sphinx rendered scikit-learn.org. See: https://github.com/scikit-learn/scikit-learn/issues/21755 */display: inline-block !important;position: relative;}#sk-container-id-1 div.sk-text-repr-fallback {display: none;}</style><div id=\"sk-container-id-1\" class=\"sk-top-container\"><div class=\"sk-text-repr-fallback\"><pre>GridSearchCV(cv=3,\n",
       "             estimator=Pipeline(steps=[(&#x27;tfidf&#x27;, TfidfVectorizer()),\n",
       "                                       (&#x27;model&#x27;, MultinomialNB())]),\n",
       "             n_jobs=-1,\n",
       "             param_grid={&#x27;model__alpha&#x27;: (0.0001, 0.001, 0.1, 1, 10, 100),\n",
       "                         &#x27;tfidf__ngram_range&#x27;: [(1, 1), (1, 2), (1, 3),\n",
       "                                                (1, 4)]})</pre><b>In a Jupyter environment, please rerun this cell to show the HTML representation or trust the notebook. <br />On GitHub, the HTML representation is unable to render, please try loading this page with nbviewer.org.</b></div><div class=\"sk-container\" hidden><div class=\"sk-item sk-dashed-wrapped\"><div class=\"sk-label-container\"><div class=\"sk-label sk-toggleable\"><input class=\"sk-toggleable__control sk-hidden--visually\" id=\"sk-estimator-id-1\" type=\"checkbox\" ><label for=\"sk-estimator-id-1\" class=\"sk-toggleable__label sk-toggleable__label-arrow\">GridSearchCV</label><div class=\"sk-toggleable__content\"><pre>GridSearchCV(cv=3,\n",
       "             estimator=Pipeline(steps=[(&#x27;tfidf&#x27;, TfidfVectorizer()),\n",
       "                                       (&#x27;model&#x27;, MultinomialNB())]),\n",
       "             n_jobs=-1,\n",
       "             param_grid={&#x27;model__alpha&#x27;: (0.0001, 0.001, 0.1, 1, 10, 100),\n",
       "                         &#x27;tfidf__ngram_range&#x27;: [(1, 1), (1, 2), (1, 3),\n",
       "                                                (1, 4)]})</pre></div></div></div><div class=\"sk-parallel\"><div class=\"sk-parallel-item\"><div class=\"sk-item\"><div class=\"sk-label-container\"><div class=\"sk-label sk-toggleable\"><input class=\"sk-toggleable__control sk-hidden--visually\" id=\"sk-estimator-id-2\" type=\"checkbox\" ><label for=\"sk-estimator-id-2\" class=\"sk-toggleable__label sk-toggleable__label-arrow\">estimator: Pipeline</label><div class=\"sk-toggleable__content\"><pre>Pipeline(steps=[(&#x27;tfidf&#x27;, TfidfVectorizer()), (&#x27;model&#x27;, MultinomialNB())])</pre></div></div></div><div class=\"sk-serial\"><div class=\"sk-item\"><div class=\"sk-serial\"><div class=\"sk-item\"><div class=\"sk-estimator sk-toggleable\"><input class=\"sk-toggleable__control sk-hidden--visually\" id=\"sk-estimator-id-3\" type=\"checkbox\" ><label for=\"sk-estimator-id-3\" class=\"sk-toggleable__label sk-toggleable__label-arrow\">TfidfVectorizer</label><div class=\"sk-toggleable__content\"><pre>TfidfVectorizer()</pre></div></div></div><div class=\"sk-item\"><div class=\"sk-estimator sk-toggleable\"><input class=\"sk-toggleable__control sk-hidden--visually\" id=\"sk-estimator-id-4\" type=\"checkbox\" ><label for=\"sk-estimator-id-4\" class=\"sk-toggleable__label sk-toggleable__label-arrow\">MultinomialNB</label><div class=\"sk-toggleable__content\"><pre>MultinomialNB()</pre></div></div></div></div></div></div></div></div></div></div></div></div>"
      ],
      "text/plain": [
       "GridSearchCV(cv=3,\n",
       "             estimator=Pipeline(steps=[('tfidf', TfidfVectorizer()),\n",
       "                                       ('model', MultinomialNB())]),\n",
       "             n_jobs=-1,\n",
       "             param_grid={'model__alpha': (0.0001, 0.001, 0.1, 1, 10, 100),\n",
       "                         'tfidf__ngram_range': [(1, 1), (1, 2), (1, 3),\n",
       "                                                (1, 4)]})"
      ]
     },
     "execution_count": 56,
     "metadata": {},
     "output_type": "execute_result"
    }
   ],
   "source": [
    "classifier_nb.fit(train_x, train_label.ravel())"
   ]
  },
  {
   "cell_type": "code",
   "execution_count": 57,
   "metadata": {
    "colab": {
     "base_uri": "https://localhost:8080/"
    },
    "executionInfo": {
     "elapsed": 3,
     "status": "ok",
     "timestamp": 1665403955097,
     "user": {
      "displayName": "farrikh alzami",
      "userId": "11964535993149439504"
     },
     "user_tz": -420
    },
    "id": "ffb4ytJlNC0F",
    "outputId": "179303c8-5387-4be4-e531-61cf2761d3ea",
    "tags": []
   },
   "outputs": [
    {
     "name": "stdout",
     "output_type": "stream",
     "text": [
      "Accuracy Training set:  0.9762658227848101\n",
      "Accuracy Test set:  0.5904059040590406\n"
     ]
    }
   ],
   "source": [
    "y_pred_nb_train = classifier_nb.predict(train_x)\n",
    "accuracy_nb_train = accuracy_score(train_label, y_pred_nb_train)\n",
    "print(\"Accuracy Training set: \", accuracy_nb_train)\n",
    "\n",
    "y_pred_nb_test = classifier_nb.predict(test_x)\n",
    "accuracy_nb_test = accuracy_score(test_label, y_pred_nb_test)\n",
    "print(\"Accuracy Test set: \", accuracy_nb_test)"
   ]
  },
  {
   "cell_type": "code",
   "execution_count": 58,
   "metadata": {
    "colab": {
     "base_uri": "https://localhost:8080/"
    },
    "executionInfo": {
     "elapsed": 514,
     "status": "ok",
     "timestamp": 1665403972006,
     "user": {
      "displayName": "farrikh alzami",
      "userId": "11964535993149439504"
     },
     "user_tz": -420
    },
    "id": "JxAILTVzNEeq",
    "outputId": "7377595f-6abb-47c4-d29f-6b49ddaf2718",
    "tags": []
   },
   "outputs": [
    {
     "name": "stdout",
     "output_type": "stream",
     "text": [
      "Recall Training set:  0.9762658227848101\n",
      "Recall Test set:  0.5904059040590406\n"
     ]
    }
   ],
   "source": [
    "recall_nb_train = recall_score(train_label, y_pred_nb_train, average='weighted')\n",
    "print(\"Recall Training set: \", recall_nb_train)\n",
    "\n",
    "recall_nb_test = recall_score(test_label, y_pred_nb_test, average='weighted')\n",
    "print(\"Recall Test set: \", recall_nb_test)"
   ]
  },
  {
   "cell_type": "code",
   "execution_count": 59,
   "metadata": {
    "colab": {
     "base_uri": "https://localhost:8080/"
    },
    "executionInfo": {
     "elapsed": 494,
     "status": "ok",
     "timestamp": 1665403980709,
     "user": {
      "displayName": "farrikh alzami",
      "userId": "11964535993149439504"
     },
     "user_tz": -420
    },
    "id": "CZtIV1euNF69",
    "outputId": "57fdf33f-e025-4553-e035-9a23a2840a27",
    "tags": []
   },
   "outputs": [
    {
     "name": "stdout",
     "output_type": "stream",
     "text": [
      "Precision Training set:  0.9763676139089341\n",
      "Precision Test set:  0.569541371806291\n"
     ]
    }
   ],
   "source": [
    "precision_nb_train = precision_score(train_label, y_pred_nb_train, average='weighted')\n",
    "print(\"Precision Training set: \", precision_nb_train)\n",
    "\n",
    "precision_nb_test = precision_score(test_label, y_pred_nb_test, average='weighted')\n",
    "print(\"Precision Test set: \", precision_nb_test)"
   ]
  },
  {
   "cell_type": "code",
   "execution_count": 60,
   "metadata": {
    "colab": {
     "base_uri": "https://localhost:8080/"
    },
    "executionInfo": {
     "elapsed": 3,
     "status": "ok",
     "timestamp": 1665404008359,
     "user": {
      "displayName": "farrikh alzami",
      "userId": "11964535993149439504"
     },
     "user_tz": -420
    },
    "id": "-9gyuq9rNHWf",
    "outputId": "0fb06b4d-ce82-427d-b81e-1f2b0c02e7dc",
    "tags": []
   },
   "outputs": [
    {
     "name": "stdout",
     "output_type": "stream",
     "text": [
      "F1 Training set:  0.9762757318902684\n",
      "F1 Test set:  0.5723164269765864\n"
     ]
    }
   ],
   "source": [
    "f1_nb_train = f1_score(train_label, y_pred_nb_train, average='weighted')\n",
    "print(\"F1 Training set: \", f1_nb_train)\n",
    "\n",
    "f1_nb_test = f1_score(test_label, y_pred_nb_test, average='weighted')\n",
    "print(\"F1 Test set: \", f1_nb_test)"
   ]
  },
  {
   "cell_type": "code",
   "execution_count": 61,
   "metadata": {
    "colab": {
     "base_uri": "https://localhost:8080/",
     "height": 323
    },
    "executionInfo": {
     "elapsed": 551,
     "status": "ok",
     "timestamp": 1665404017403,
     "user": {
      "displayName": "farrikh alzami",
      "userId": "11964535993149439504"
     },
     "user_tz": -420
    },
    "id": "-zZjJnhVNIjD",
    "outputId": "b35fd7e4-039e-4548-c461-8618341f0513",
    "tags": []
   },
   "outputs": [
    {
     "data": {
      "image/png": "[encoded data removed]",
      "text/plain": [
       "<Figure size 640x480 with 2 Axes>"
      ]
     },
     "metadata": {},
     "output_type": "display_data"
    }
   ],
   "source": [
    "from sklearn.metrics import confusion_matrix\n",
    "sns.heatmap(confusion_matrix(test_label, y_pred_nb_test), annot=True, cmap = 'viridis', fmt='.0f')\n",
    "plt.xlabel(\"Predicted values\", fontdict = {'size':14}, labelpad = 10)\n",
    "plt.ylabel(\"Actual values\"   , fontdict = {'size':14}, labelpad = 10)\n",
    "plt.title (\"Confusion Matrix\", fontdict = {'size':18}, pad = 20)\n",
    "plt.show()"
   ]
  },
  {
   "cell_type": "code",
   "execution_count": 62,
   "metadata": {
    "colab": {
     "base_uri": "https://localhost:8080/"
    },
    "executionInfo": {
     "elapsed": 499,
     "status": "ok",
     "timestamp": 1665404030703,
     "user": {
      "displayName": "farrikh alzami",
      "userId": "11964535993149439504"
     },
     "user_tz": -420
    },
    "id": "DCTkN29ENJrT",
    "outputId": "1913896a-345b-4e25-a68b-d2bc53d1905f",
    "tags": []
   },
   "outputs": [
    {
     "data": {
      "text/html": [
       "<style>#sk-container-id-2 {color: black;background-color: white;}#sk-container-id-2 pre{padding: 0;}#sk-container-id-2 div.sk-toggleable {background-color: white;}#sk-container-id-2 label.sk-toggleable__label {cursor: pointer;display: block;width: 100%;margin-bottom: 0;padding: 0.3em;box-sizing: border-box;text-align: center;}#sk-container-id-2 label.sk-toggleable__label-arrow:before {content: \"▸\";float: left;margin-right: 0.25em;color: #696969;}#sk-container-id-2 label.sk-toggleable__label-arrow:hover:before {color: black;}#sk-container-id-2 div.sk-estimator:hover label.sk-toggleable__label-arrow:before {color: black;}#sk-container-id-2 div.sk-toggleable__content {max-height: 0;max-width: 0;overflow: hidden;text-align: left;background-color: #f0f8ff;}#sk-container-id-2 div.sk-toggleable__content pre {margin: 0.2em;color: black;border-radius: 0.25em;background-color: #f0f8ff;}#sk-container-id-2 input.sk-toggleable__control:checked~div.sk-toggleable__content {max-height: 200px;max-width: 100%;overflow: auto;}#sk-container-id-2 input.sk-toggleable__control:checked~label.sk-toggleable__label-arrow:before {content: \"▾\";}#sk-container-id-2 div.sk-estimator input.sk-toggleable__control:checked~label.sk-toggleable__label {background-color: #d4ebff;}#sk-container-id-2 div.sk-label input.sk-toggleable__control:checked~label.sk-toggleable__label {background-color: #d4ebff;}#sk-container-id-2 input.sk-hidden--visually {border: 0;clip: rect(1px 1px 1px 1px);clip: rect(1px, 1px, 1px, 1px);height: 1px;margin: -1px;overflow: hidden;padding: 0;position: absolute;width: 1px;}#sk-container-id-2 div.sk-estimator {font-family: monospace;background-color: #f0f8ff;border: 1px dotted black;border-radius: 0.25em;box-sizing: border-box;margin-bottom: 0.5em;}#sk-container-id-2 div.sk-estimator:hover {background-color: #d4ebff;}#sk-container-id-2 div.sk-parallel-item::after {content: \"\";width: 100%;border-bottom: 1px solid gray;flex-grow: 1;}#sk-container-id-2 div.sk-label:hover label.sk-toggleable__label {background-color: #d4ebff;}#sk-container-id-2 div.sk-serial::before {content: \"\";position: absolute;border-left: 1px solid gray;box-sizing: border-box;top: 0;bottom: 0;left: 50%;z-index: 0;}#sk-container-id-2 div.sk-serial {display: flex;flex-direction: column;align-items: center;background-color: white;padding-right: 0.2em;padding-left: 0.2em;position: relative;}#sk-container-id-2 div.sk-item {position: relative;z-index: 1;}#sk-container-id-2 div.sk-parallel {display: flex;align-items: stretch;justify-content: center;background-color: white;position: relative;}#sk-container-id-2 div.sk-item::before, #sk-container-id-2 div.sk-parallel-item::before {content: \"\";position: absolute;border-left: 1px solid gray;box-sizing: border-box;top: 0;bottom: 0;left: 50%;z-index: -1;}#sk-container-id-2 div.sk-parallel-item {display: flex;flex-direction: column;z-index: 1;position: relative;background-color: white;}#sk-container-id-2 div.sk-parallel-item:first-child::after {align-self: flex-end;width: 50%;}#sk-container-id-2 div.sk-parallel-item:last-child::after {align-self: flex-start;width: 50%;}#sk-container-id-2 div.sk-parallel-item:only-child::after {width: 0;}#sk-container-id-2 div.sk-dashed-wrapped {border: 1px dashed gray;margin: 0 0.4em 0.5em 0.4em;box-sizing: border-box;padding-bottom: 0.4em;background-color: white;}#sk-container-id-2 div.sk-label label {font-family: monospace;font-weight: bold;display: inline-block;line-height: 1.2em;}#sk-container-id-2 div.sk-label-container {text-align: center;}#sk-container-id-2 div.sk-container {/* jupyter's `normalize.less` sets `[hidden] { display: none; }` but bootstrap.min.css set `[hidden] { display: none !important; }` so we also need the `!important` here to be able to override the default hidden behavior on the sphinx rendered scikit-learn.org. See: https://github.com/scikit-learn/scikit-learn/issues/21755 */display: inline-block !important;position: relative;}#sk-container-id-2 div.sk-text-repr-fallback {display: none;}</style><div id=\"sk-container-id-2\" class=\"sk-top-container\"><div class=\"sk-text-repr-fallback\"><pre>Pipeline(steps=[(&#x27;tfidf&#x27;, TfidfVectorizer()),\n",
       "                (&#x27;model&#x27;, MultinomialNB(alpha=0.1))])</pre><b>In a Jupyter environment, please rerun this cell to show the HTML representation or trust the notebook. <br />On GitHub, the HTML representation is unable to render, please try loading this page with nbviewer.org.</b></div><div class=\"sk-container\" hidden><div class=\"sk-item sk-dashed-wrapped\"><div class=\"sk-label-container\"><div class=\"sk-label sk-toggleable\"><input class=\"sk-toggleable__control sk-hidden--visually\" id=\"sk-estimator-id-5\" type=\"checkbox\" ><label for=\"sk-estimator-id-5\" class=\"sk-toggleable__label sk-toggleable__label-arrow\">Pipeline</label><div class=\"sk-toggleable__content\"><pre>Pipeline(steps=[(&#x27;tfidf&#x27;, TfidfVectorizer()),\n",
       "                (&#x27;model&#x27;, MultinomialNB(alpha=0.1))])</pre></div></div></div><div class=\"sk-serial\"><div class=\"sk-item\"><div class=\"sk-estimator sk-toggleable\"><input class=\"sk-toggleable__control sk-hidden--visually\" id=\"sk-estimator-id-6\" type=\"checkbox\" ><label for=\"sk-estimator-id-6\" class=\"sk-toggleable__label sk-toggleable__label-arrow\">TfidfVectorizer</label><div class=\"sk-toggleable__content\"><pre>TfidfVectorizer()</pre></div></div></div><div class=\"sk-item\"><div class=\"sk-estimator sk-toggleable\"><input class=\"sk-toggleable__control sk-hidden--visually\" id=\"sk-estimator-id-7\" type=\"checkbox\" ><label for=\"sk-estimator-id-7\" class=\"sk-toggleable__label sk-toggleable__label-arrow\">MultinomialNB</label><div class=\"sk-toggleable__content\"><pre>MultinomialNB(alpha=0.1)</pre></div></div></div></div></div></div></div>"
      ],
      "text/plain": [
       "Pipeline(steps=[('tfidf', TfidfVectorizer()),\n",
       "                ('model', MultinomialNB(alpha=0.1))])"
      ]
     },
     "execution_count": 62,
     "metadata": {},
     "output_type": "execute_result"
    }
   ],
   "source": [
    "classifier_nb.best_estimator_"
   ]
  },
  {
   "cell_type": "code",
   "execution_count": 63,
   "metadata": {
    "colab": {
     "base_uri": "https://localhost:8080/"
    },
    "executionInfo": {
     "elapsed": 2,
     "status": "ok",
     "timestamp": 1665404032621,
     "user": {
      "displayName": "farrikh alzami",
      "userId": "11964535993149439504"
     },
     "user_tz": -420
    },
    "id": "d1u8QJO_NLGt",
    "outputId": "5162ef46-3df8-495e-b62d-c1a1a35de7ed",
    "tags": []
   },
   "outputs": [
    {
     "name": "stdout",
     "output_type": "stream",
     "text": [
      "model__alpha: 0.1\n",
      "tfidf__ngram_range: (1, 1)\n"
     ]
    }
   ],
   "source": [
    "for param_name in sorted(parameters_nb.keys()):\n",
    "    print(\"%s: %r\" % (param_name, classifier_nb.best_params_[param_name]))"
   ]
  },
  {
   "cell_type": "markdown",
   "metadata": {},
   "source": [
    "## KNN"
   ]
  },
  {
   "cell_type": "code",
   "execution_count": 64,
   "metadata": {
    "tags": []
   },
   "outputs": [],
   "source": [
    "from sklearn.neighbors import KNeighborsClassifier"
   ]
  },
  {
   "cell_type": "code",
   "execution_count": 65,
   "metadata": {
    "tags": []
   },
   "outputs": [
    {
     "data": {
      "text/plain": [
       "dtype('O')"
      ]
     },
     "execution_count": 65,
     "metadata": {},
     "output_type": "execute_result"
    }
   ],
   "source": [
    "train_x.dtype"
   ]
  },
  {
   "cell_type": "code",
   "execution_count": 66,
   "metadata": {
    "tags": []
   },
   "outputs": [],
   "source": [
    "from sklearn.preprocessing import LabelEncoder\n",
    "\n",
    "label_encoder = LabelEncoder()\n",
    "train_x_encoded = label_encoder.fit_transform(train_x)"
   ]
  },
  {
   "cell_type": "code",
   "execution_count": 67,
   "metadata": {
    "tags": []
   },
   "outputs": [],
   "source": [
    "test_x_encoded = label_encoder.fit_transform(test_x)"
   ]
  },
  {
   "cell_type": "code",
   "execution_count": 68,
   "metadata": {
    "tags": []
   },
   "outputs": [
    {
     "data": {
      "text/plain": [
       "dtype('int32')"
      ]
     },
     "execution_count": 68,
     "metadata": {},
     "output_type": "execute_result"
    }
   ],
   "source": [
    "train_x_encoded.dtype"
   ]
  },
  {
   "cell_type": "code",
   "execution_count": 69,
   "metadata": {
    "tags": []
   },
   "outputs": [],
   "source": [
    "train_x_encoded = train_x_encoded.reshape(-1, 1)\n",
    "# train_label = train_label.reshape(-1, 1)"
   ]
  },
  {
   "cell_type": "code",
   "execution_count": 70,
   "metadata": {
    "tags": []
   },
   "outputs": [],
   "source": [
    "test_x_encoded = test_x_encoded.reshape(-1, 1)"
   ]
  },
  {
   "cell_type": "code",
   "execution_count": 71,
   "metadata": {
    "tags": []
   },
   "outputs": [
    {
     "data": {
      "text/html": [
       "<style>#sk-container-id-3 {color: black;background-color: white;}#sk-container-id-3 pre{padding: 0;}#sk-container-id-3 div.sk-toggleable {background-color: white;}#sk-container-id-3 label.sk-toggleable__label {cursor: pointer;display: block;width: 100%;margin-bottom: 0;padding: 0.3em;box-sizing: border-box;text-align: center;}#sk-container-id-3 label.sk-toggleable__label-arrow:before {content: \"▸\";float: left;margin-right: 0.25em;color: #696969;}#sk-container-id-3 label.sk-toggleable__label-arrow:hover:before {color: black;}#sk-container-id-3 div.sk-estimator:hover label.sk-toggleable__label-arrow:before {color: black;}#sk-container-id-3 div.sk-toggleable__content {max-height: 0;max-width: 0;overflow: hidden;text-align: left;background-color: #f0f8ff;}#sk-container-id-3 div.sk-toggleable__content pre {margin: 0.2em;color: black;border-radius: 0.25em;background-color: #f0f8ff;}#sk-container-id-3 input.sk-toggleable__control:checked~div.sk-toggleable__content {max-height: 200px;max-width: 100%;overflow: auto;}#sk-container-id-3 input.sk-toggleable__control:checked~label.sk-toggleable__label-arrow:before {content: \"▾\";}#sk-container-id-3 div.sk-estimator input.sk-toggleable__control:checked~label.sk-toggleable__label {background-color: #d4ebff;}#sk-container-id-3 div.sk-label input.sk-toggleable__control:checked~label.sk-toggleable__label {background-color: #d4ebff;}#sk-container-id-3 input.sk-hidden--visually {border: 0;clip: rect(1px 1px 1px 1px);clip: rect(1px, 1px, 1px, 1px);height: 1px;margin: -1px;overflow: hidden;padding: 0;position: absolute;width: 1px;}#sk-container-id-3 div.sk-estimator {font-family: monospace;background-color: #f0f8ff;border: 1px dotted black;border-radius: 0.25em;box-sizing: border-box;margin-bottom: 0.5em;}#sk-container-id-3 div.sk-estimator:hover {background-color: #d4ebff;}#sk-container-id-3 div.sk-parallel-item::after {content: \"\";width: 100%;border-bottom: 1px solid gray;flex-grow: 1;}#sk-container-id-3 div.sk-label:hover label.sk-toggleable__label {background-color: #d4ebff;}#sk-container-id-3 div.sk-serial::before {content: \"\";position: absolute;border-left: 1px solid gray;box-sizing: border-box;top: 0;bottom: 0;left: 50%;z-index: 0;}#sk-container-id-3 div.sk-serial {display: flex;flex-direction: column;align-items: center;background-color: white;padding-right: 0.2em;padding-left: 0.2em;position: relative;}#sk-container-id-3 div.sk-item {position: relative;z-index: 1;}#sk-container-id-3 div.sk-parallel {display: flex;align-items: stretch;justify-content: center;background-color: white;position: relative;}#sk-container-id-3 div.sk-item::before, #sk-container-id-3 div.sk-parallel-item::before {content: \"\";position: absolute;border-left: 1px solid gray;box-sizing: border-box;top: 0;bottom: 0;left: 50%;z-index: -1;}#sk-container-id-3 div.sk-parallel-item {display: flex;flex-direction: column;z-index: 1;position: relative;background-color: white;}#sk-container-id-3 div.sk-parallel-item:first-child::after {align-self: flex-end;width: 50%;}#sk-container-id-3 div.sk-parallel-item:last-child::after {align-self: flex-start;width: 50%;}#sk-container-id-3 div.sk-parallel-item:only-child::after {width: 0;}#sk-container-id-3 div.sk-dashed-wrapped {border: 1px dashed gray;margin: 0 0.4em 0.5em 0.4em;box-sizing: border-box;padding-bottom: 0.4em;background-color: white;}#sk-container-id-3 div.sk-label label {font-family: monospace;font-weight: bold;display: inline-block;line-height: 1.2em;}#sk-container-id-3 div.sk-label-container {text-align: center;}#sk-container-id-3 div.sk-container {/* jupyter's `normalize.less` sets `[hidden] { display: none; }` but bootstrap.min.css set `[hidden] { display: none !important; }` so we also need the `!important` here to be able to override the default hidden behavior on the sphinx rendered scikit-learn.org. See: https://github.com/scikit-learn/scikit-learn/issues/21755 */display: inline-block !important;position: relative;}#sk-container-id-3 div.sk-text-repr-fallback {display: none;}</style><div id=\"sk-container-id-3\" class=\"sk-top-container\"><div class=\"sk-text-repr-fallback\"><pre>KNeighborsClassifier(n_neighbors=3)</pre><b>In a Jupyter environment, please rerun this cell to show the HTML representation or trust the notebook. <br />On GitHub, the HTML representation is unable to render, please try loading this page with nbviewer.org.</b></div><div class=\"sk-container\" hidden><div class=\"sk-item\"><div class=\"sk-estimator sk-toggleable\"><input class=\"sk-toggleable__control sk-hidden--visually\" id=\"sk-estimator-id-8\" type=\"checkbox\" checked><label for=\"sk-estimator-id-8\" class=\"sk-toggleable__label sk-toggleable__label-arrow\">KNeighborsClassifier</label><div class=\"sk-toggleable__content\"><pre>KNeighborsClassifier(n_neighbors=3)</pre></div></div></div></div></div>"
      ],
      "text/plain": [
       "KNeighborsClassifier(n_neighbors=3)"
      ]
     },
     "execution_count": 71,
     "metadata": {},
     "output_type": "execute_result"
    }
   ],
   "source": [
    "model = KNeighborsClassifier(n_neighbors=3)\n",
    "model.fit(train_x_encoded, train_label)"
   ]
  },
  {
   "cell_type": "code",
   "execution_count": 72,
   "metadata": {
    "tags": []
   },
   "outputs": [
    {
     "name": "stdout",
     "output_type": "stream",
     "text": [
      "Accuracy Training set:  0.6819620253164557\n",
      "Accuracy Test set:  0.36162361623616235\n"
     ]
    }
   ],
   "source": [
    "y_pred_knn_train = model.predict(train_x_encoded)\n",
    "accuracy_knn_train = accuracy_score(train_label, y_pred_knn_train)\n",
    "print(\"Accuracy Training set: \", accuracy_knn_train)\n",
    "\n",
    "y_pred_knn_test = model.predict(test_x_encoded)\n",
    "accuracy_knn_test = accuracy_score(test_label, y_pred_knn_test)\n",
    "print(\"Accuracy Test set: \", accuracy_knn_test)"
   ]
  },
  {
   "cell_type": "code",
   "execution_count": 73,
   "metadata": {
    "tags": []
   },
   "outputs": [
    {
     "name": "stdout",
     "output_type": "stream",
     "text": [
      "Recall Training set:  0.6819620253164557\n",
      "Recall Test set:  0.36162361623616235\n"
     ]
    }
   ],
   "source": [
    "recall_knn_train = recall_score(train_label, y_pred_knn_train, average='weighted')\n",
    "print(\"Recall Training set: \", recall_knn_train)\n",
    "\n",
    "recall_knn_test = recall_score(test_label, y_pred_knn_test, average='weighted')\n",
    "print(\"Recall Test set: \", recall_knn_test)"
   ]
  },
  {
   "cell_type": "code",
   "execution_count": 74,
   "metadata": {
    "tags": []
   },
   "outputs": [
    {
     "name": "stdout",
     "output_type": "stream",
     "text": [
      "Precision Training set:  0.7011272070435527\n",
      "Precision Test set:  0.39319546180536435\n"
     ]
    }
   ],
   "source": [
    "precision_knn_train = precision_score(train_label, y_pred_knn_train, average='weighted')\n",
    "print(\"Precision Training set: \", precision_knn_train)\n",
    "\n",
    "precision_knn_test = precision_score(test_label, y_pred_knn_test, average='weighted')\n",
    "print(\"Precision Test set: \", precision_knn_test)"
   ]
  },
  {
   "cell_type": "code",
   "execution_count": 75,
   "metadata": {
    "tags": []
   },
   "outputs": [
    {
     "name": "stdout",
     "output_type": "stream",
     "text": [
      "F1 Training set:  0.6865068520468985\n",
      "F1 Test set:  0.3717346622765151\n"
     ]
    }
   ],
   "source": [
    "f1_knn_train = f1_score(train_label, y_pred_knn_train, average='weighted')\n",
    "print(\"F1 Training set: \", f1_knn_train)\n",
    "\n",
    "f1_knn_test = f1_score(test_label, y_pred_knn_test, average='weighted')\n",
    "print(\"F1 Test set: \", f1_knn_test)"
   ]
  },
  {
   "cell_type": "code",
   "execution_count": 76,
   "metadata": {
    "tags": []
   },
   "outputs": [
    {
     "data": {
      "image/png": "[encoded data removed]",
      "text/plain": [
       "<Figure size 640x480 with 2 Axes>"
      ]
     },
     "metadata": {},
     "output_type": "display_data"
    }
   ],
   "source": [
    "from sklearn.metrics import confusion_matrix\n",
    "sns.heatmap(confusion_matrix(test_label, y_pred_knn_test), annot=True, cmap = 'viridis', fmt='.0f')\n",
    "plt.xlabel(\"Predicted values\", fontdict = {'size':14}, labelpad = 10)\n",
    "plt.ylabel(\"Actual values\"   , fontdict = {'size':14}, labelpad = 10)\n",
    "plt.title (\"Confusion Matrix\", fontdict = {'size':18}, pad = 20)\n",
    "plt.show()"
   ]
  },
  {
   "cell_type": "markdown",
   "metadata": {
    "id": "sx9QGpMhNQz2"
   },
   "source": [
    "# Visualisasi"
   ]
  },
  {
   "cell_type": "code",
   "execution_count": 77,
   "metadata": {
    "id": "PNe8zekbNMzJ",
    "tags": []
   },
   "outputs": [],
   "source": [
    "models = [        \n",
    "          ('Naive Bayes Multinomial', accuracy_nb_train, accuracy_nb_test),\n",
    "          ('KNN', accuracy_knn_train, accuracy_knn_test),\n",
    "         ]"
   ]
  },
  {
   "cell_type": "code",
   "execution_count": 78,
   "metadata": {
    "colab": {
     "base_uri": "https://localhost:8080/",
     "height": 81
    },
    "executionInfo": {
     "elapsed": 662,
     "status": "ok",
     "timestamp": 1665404063287,
     "user": {
      "displayName": "farrikh alzami",
      "userId": "11964535993149439504"
     },
     "user_tz": -420
    },
    "id": "PMDt0SP3NTvf",
    "outputId": "954a53fd-f2c6-4b45-9053-6e38b09bc7b9",
    "tags": []
   },
   "outputs": [
    {
     "data": {
      "text/html": [
       "<div>\n",
       "<style scoped>\n",
       "    .dataframe tbody tr th:only-of-type {\n",
       "        vertical-align: middle;\n",
       "    }\n",
       "\n",
       "    .dataframe tbody tr th {\n",
       "        vertical-align: top;\n",
       "    }\n",
       "\n",
       "    .dataframe thead th {\n",
       "        text-align: right;\n",
       "    }\n",
       "</style>\n",
       "<table border=\"1\" class=\"dataframe\">\n",
       "  <thead>\n",
       "    <tr style=\"text-align: right;\">\n",
       "      <th></th>\n",
       "      <th>Model</th>\n",
       "      <th>Training Accuracy</th>\n",
       "      <th>Test Accuracy</th>\n",
       "    </tr>\n",
       "  </thead>\n",
       "  <tbody>\n",
       "    <tr>\n",
       "      <th>0</th>\n",
       "      <td>Naive Bayes Multinomial</td>\n",
       "      <td>0.976266</td>\n",
       "      <td>0.590406</td>\n",
       "    </tr>\n",
       "    <tr>\n",
       "      <th>1</th>\n",
       "      <td>KNN</td>\n",
       "      <td>0.681962</td>\n",
       "      <td>0.361624</td>\n",
       "    </tr>\n",
       "  </tbody>\n",
       "</table>\n",
       "</div>"
      ],
      "text/plain": [
       "                     Model  Training Accuracy  Test Accuracy\n",
       "0  Naive Bayes Multinomial           0.976266       0.590406\n",
       "1                      KNN           0.681962       0.361624"
      ]
     },
     "execution_count": 78,
     "metadata": {},
     "output_type": "execute_result"
    }
   ],
   "source": [
    "predict = pd.DataFrame(data = models, columns=['Model', 'Training Accuracy', 'Test Accuracy'])\n",
    "predict"
   ]
  },
  {
   "cell_type": "code",
   "execution_count": 79,
   "metadata": {
    "id": "E7dNcRN6NU7c",
    "tags": []
   },
   "outputs": [],
   "source": [
    "models_comparison = [                        \n",
    "                        ('Naive Bayes Multinomial', accuracy_nb_test, recall_nb_test, precision_nb_test, f1_nb_test),\n",
    "                        ('KNN', accuracy_knn_test, recall_knn_test, precision_knn_test, f1_knn_test),                   \n",
    "                    ]"
   ]
  },
  {
   "cell_type": "code",
   "execution_count": 80,
   "metadata": {
    "colab": {
     "base_uri": "https://localhost:8080/",
     "height": 81
    },
    "executionInfo": {
     "elapsed": 730,
     "status": "ok",
     "timestamp": 1665404079597,
     "user": {
      "displayName": "farrikh alzami",
      "userId": "11964535993149439504"
     },
     "user_tz": -420
    },
    "id": "ag1KxvizNYKY",
    "outputId": "a3bd2829-8109-4ba6-eaca-718f698b1520",
    "tags": []
   },
   "outputs": [
    {
     "data": {
      "text/html": [
       "<div>\n",
       "<style scoped>\n",
       "    .dataframe tbody tr th:only-of-type {\n",
       "        vertical-align: middle;\n",
       "    }\n",
       "\n",
       "    .dataframe tbody tr th {\n",
       "        vertical-align: top;\n",
       "    }\n",
       "\n",
       "    .dataframe thead th {\n",
       "        text-align: right;\n",
       "    }\n",
       "</style>\n",
       "<table border=\"1\" class=\"dataframe\">\n",
       "  <thead>\n",
       "    <tr style=\"text-align: right;\">\n",
       "      <th></th>\n",
       "      <th>Model</th>\n",
       "      <th>Accuracy</th>\n",
       "      <th>Recall</th>\n",
       "      <th>Precision</th>\n",
       "      <th>F1 Weighted</th>\n",
       "    </tr>\n",
       "  </thead>\n",
       "  <tbody>\n",
       "    <tr>\n",
       "      <th>0</th>\n",
       "      <td>Naive Bayes Multinomial</td>\n",
       "      <td>0.590406</td>\n",
       "      <td>0.590406</td>\n",
       "      <td>0.569541</td>\n",
       "      <td>0.572316</td>\n",
       "    </tr>\n",
       "    <tr>\n",
       "      <th>1</th>\n",
       "      <td>KNN</td>\n",
       "      <td>0.361624</td>\n",
       "      <td>0.361624</td>\n",
       "      <td>0.393195</td>\n",
       "      <td>0.371735</td>\n",
       "    </tr>\n",
       "  </tbody>\n",
       "</table>\n",
       "</div>"
      ],
      "text/plain": [
       "                     Model  Accuracy    Recall  Precision  F1 Weighted\n",
       "0  Naive Bayes Multinomial  0.590406  0.590406   0.569541     0.572316\n",
       "1                      KNN  0.361624  0.361624   0.393195     0.371735"
      ]
     },
     "execution_count": 80,
     "metadata": {},
     "output_type": "execute_result"
    }
   ],
   "source": [
    "comparison = pd.DataFrame(data = models_comparison, columns=['Model', 'Accuracy', 'Recall', 'Precision', 'F1 Weighted'])\n",
    "comparison"
   ]
  },
  {
   "cell_type": "code",
   "execution_count": 81,
   "metadata": {
    "colab": {
     "base_uri": "https://localhost:8080/",
     "height": 611
    },
    "executionInfo": {
     "elapsed": 762,
     "status": "ok",
     "timestamp": 1665404086405,
     "user": {
      "displayName": "farrikh alzami",
      "userId": "11964535993149439504"
     },
     "user_tz": -420
    },
    "id": "xfmY9uPfNaBl",
    "outputId": "859615dc-c64d-47e7-9d89-79c7e12f2c31",
    "tags": []
   },
   "outputs": [
    {
     "data": {
      "image/png": "[encoded data removed]",
      "text/plain": [
       "<Figure size 1400x1000 with 2 Axes>"
      ]
     },
     "metadata": {},
     "output_type": "display_data"
    }
   ],
   "source": [
    "import numpy as np\n",
    "\n",
    "f, axes = plt.subplots(2,1, figsize=(14,10))\n",
    "\n",
    "predict.sort_values(by=['Training Accuracy'], ascending=False, inplace=True)\n",
    "\n",
    "sns.barplot(x='Training Accuracy', y='Model', data = predict, palette='Blues_d', ax = axes[0])\n",
    "#axes[0].set(xlabel='Region', ylabel='Charges')\n",
    "axes[0].set_xlabel('Training Accuracy', size=16)\n",
    "axes[0].set_ylabel('Model')\n",
    "axes[0].set_xlim(0,1.0)\n",
    "axes[0].set_xticks(np.arange(0, 1.1, 0.1))\n",
    "\n",
    "predict.sort_values(by=['Test Accuracy'], ascending=False, inplace=True)\n",
    "\n",
    "sns.barplot(x='Test Accuracy', y='Model', data = predict, palette='Greens_d', ax = axes[1])\n",
    "#axes[0].set(xlabel='Region', ylabel='Charges')\n",
    "axes[1].set_xlabel('Test Accuracy', size=16)\n",
    "axes[1].set_ylabel('Model')\n",
    "axes[1].set_xlim(0,1.0)\n",
    "axes[1].set_xticks(np.arange(0, 1.1, 0.1))\n",
    "\n",
    "plt.show()"
   ]
  },
  {
   "cell_type": "markdown",
   "metadata": {
    "id": "ax_0BYFhQoGl"
   },
   "source": [
    "# simpan kedalam joblib"
   ]
  },
  {
   "cell_type": "code",
   "execution_count": 82,
   "metadata": {
    "id": "GXb1o8AeNfQf",
    "tags": []
   },
   "outputs": [],
   "source": [
    "import joblib"
   ]
  },
  {
   "cell_type": "code",
   "execution_count": 83,
   "metadata": {
    "colab": {
     "base_uri": "https://localhost:8080/"
    },
    "executionInfo": {
     "elapsed": 1230,
     "status": "ok",
     "timestamp": 1665404099162,
     "user": {
      "displayName": "farrikh alzami",
      "userId": "11964535993149439504"
     },
     "user_tz": -420
    },
    "id": "BM-gUqDMQqmv",
    "outputId": "0da7bb8c-2616-46bd-b1d1-09f873738db0",
    "tags": []
   },
   "outputs": [
    {
     "data": {
      "text/plain": [
       "['classifier_nb.best_estimator_.sav']"
      ]
     },
     "execution_count": 83,
     "metadata": {},
     "output_type": "execute_result"
    }
   ],
   "source": [
    "# save the model to disk\n",
    "joblib.dump(classifier_nb.best_estimator_, 'classifier_nb.best_estimator_.sav', compress=1)"
   ]
  },
  {
   "cell_type": "code",
   "execution_count": null,
   "metadata": {},
   "outputs": [],
   "source": []
  }
 ],
 "metadata": {
  "colab": {
   "authorship_tag": "ABX9TyPYBsAJvbBhGEKY+lDlRj65",
   "collapsed_sections": [],
   "provenance": []
  },
  "kernelspec": {
   "display_name": "Python 3 (ipykernel)",
   "language": "python",
   "name": "python3"
  },
  "language_info": {
   "codemirror_mode": {
    "name": "ipython",
    "version": 3
   },
   "file_extension": ".py",
   "mimetype": "text/x-python",
   "name": "python",
   "nbconvert_exporter": "python",
   "pygments_lexer": "ipython3",
   "version": "3.10.7"
  }
 },
 "nbformat": 4,
 "nbformat_minor": 4
}
